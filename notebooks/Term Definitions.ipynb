{
 "cells": [
  {
   "cell_type": "markdown",
   "id": "acoustic-nickname",
   "metadata": {},
   "source": [
    "# Term Definitions\n",
    "\n",
    "This notebook acts as a lookup for any data science related terms I find anywhere, along with any definitions as I am able to define them. Over time I may divide up into sections or even separate notebooks depending how far I get with it...\n",
    "\n",
    "## Kaggle\n",
    "\n",
    "I've come across these terms whilst on Kaggle. I'll include links to the notebooks / source wherever possible.\n",
    "\n",
    "### Denoising Autoencoder (DAE)\n",
    "\n",
    "This terms comes from the [first placed solution](https://www.kaggle.com/c/tabular-playground-series-jan-2021/discussion/216037) in the Tabular Playground Series - Jan 2021 competition.\n",
    "\n",
    "### MultiLayer Perceptrons (MLPs)\n",
    "\n",
    "This term again comes from the [first placed solution](https://www.kaggle.com/c/tabular-playground-series-jan-2021/discussion/216037) in the Tabular Playground Series - Jan 2021 competition.\n"
   ]
  }
 ],
 "metadata": {
  "kernelspec": {
   "display_name": "Python 3",
   "language": "python",
   "name": "python3"
  },
  "language_info": {
   "codemirror_mode": {
    "name": "ipython",
    "version": 3
   },
   "file_extension": ".py",
   "mimetype": "text/x-python",
   "name": "python",
   "nbconvert_exporter": "python",
   "pygments_lexer": "ipython3",
   "version": "3.7.6"
  }
 },
 "nbformat": 4,
 "nbformat_minor": 5
}
