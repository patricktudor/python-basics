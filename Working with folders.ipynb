{
 "cells": [
  {
   "cell_type": "code",
   "execution_count": null,
   "id": "polish-duration",
   "metadata": {},
   "outputs": [],
   "source": []
  },
  {
   "cell_type": "markdown",
   "id": "decreased-stage",
   "metadata": {},
   "source": [
    "# Working with folders\n",
    "\n",
    "In this notebook I want to explore how to work with a folder of files using Python.\n",
    "\n",
    "First, lets figure out how to identify the current directory. This can be done easily using Python's `os` module (Miscellaneous operating system interfaces)."
   ]
  },
  {
   "cell_type": "code",
   "execution_count": 2,
   "id": "written-mississippi",
   "metadata": {},
   "outputs": [
    {
     "data": {
      "text/plain": [
       "'C:\\\\Users\\\\ptudor\\\\Documents\\\\GitHub\\\\python-basics'"
      ]
     },
     "execution_count": 2,
     "metadata": {},
     "output_type": "execute_result"
    }
   ],
   "source": [
    "import os\n",
    "\n",
    "os.getcwd()"
   ]
  },
  {
   "cell_type": "markdown",
   "id": "friendly-denver",
   "metadata": {},
   "source": [
    "That works ok. Next, how do we see all entries in a particular directory? For the following work, this [resource](https://realpython.com/working-with-files-in-python/) is written nicely. In Python 3.5 and newer, we can use `os.scandir()` (returns an interator). For older versions of Python, `os.listdir()` can be used instead (returns a list). Another option is to use `pathlib.Path.iterdir()`."
   ]
  },
  {
   "cell_type": "code",
   "execution_count": 5,
   "id": "sunrise-location",
   "metadata": {},
   "outputs": [
    {
     "name": "stdout",
     "output_type": "stream",
     "text": [
      ".git\n",
      ".gitattributes\n",
      ".ipynb_checkpoints\n",
      "Anaconda Prompt and Environments.ipynb\n",
      "Jupyer Notebook Shortcuts.ipynb\n",
      "Opening, reading and writing files.ipynb\n",
      "pictures-for-notebooks\n",
      "README.md\n",
      "Term Definitions.ipynb\n",
      "test-folder-with-csv-files\n",
      "Working with folders.ipynb\n"
     ]
    }
   ],
   "source": [
    "# store current directory\n",
    "my_directory = os.getcwd()\n",
    "\n",
    "with os.scandir(my_directory) as entries:\n",
    "    for entry in entries:\n",
    "        print(entry.name)"
   ]
  },
  {
   "cell_type": "markdown",
   "id": "rolled-greensboro",
   "metadata": {},
   "source": [
    "This method returns everything in the directory, i.e. files, and other objects like sub-directories. If we only want to print out files, then we can do the following - "
   ]
  },
  {
   "cell_type": "code",
   "execution_count": 7,
   "id": "dependent-trout",
   "metadata": {},
   "outputs": [
    {
     "name": "stdout",
     "output_type": "stream",
     "text": [
      ".gitattributes\n",
      "Anaconda Prompt and Environments.ipynb\n",
      "Jupyer Notebook Shortcuts.ipynb\n",
      "Opening, reading and writing files.ipynb\n",
      "README.md\n",
      "Term Definitions.ipynb\n",
      "Working with folders.ipynb\n"
     ]
    }
   ],
   "source": [
    "with os.scandir(my_directory) as entries:\n",
    "    for entry in entries:\n",
    "        if entry.is_file():\n",
    "            print(entry.name)"
   ]
  },
  {
   "cell_type": "markdown",
   "id": "acting-cambodia",
   "metadata": {},
   "source": [
    "If we want to print sub-directories instead of files, then we can swap out `is_file()` for `is_dir()` like so -"
   ]
  },
  {
   "cell_type": "code",
   "execution_count": 9,
   "id": "lesser-dispatch",
   "metadata": {},
   "outputs": [
    {
     "name": "stdout",
     "output_type": "stream",
     "text": [
      ".git\n",
      ".ipynb_checkpoints\n",
      "pictures-for-notebooks\n",
      "test-folder-with-csv-files\n"
     ]
    }
   ],
   "source": [
    "with os.scandir(my_directory) as entries:\n",
    "    for entry in entries:\n",
    "        if entry.is_dir():\n",
    "            print(entry.name)"
   ]
  },
  {
   "cell_type": "markdown",
   "id": "divine-piano",
   "metadata": {},
   "source": [
    "## Filename pattern matching\n",
    "\n",
    "There are some methods available to help search for files that match a particular pattern -\n",
    "- `startswith()` and `endswith()` string methods\n",
    "- `fnmatch.fnmatch()`\n",
    "- `glob.glob()`\n",
    "- `pathlib.Path.glob()`"
   ]
  },
  {
   "cell_type": "code",
   "execution_count": 12,
   "id": "coordinated-thriller",
   "metadata": {},
   "outputs": [
    {
     "name": "stdout",
     "output_type": "stream",
     "text": [
      "Anaconda Prompt and Environments.ipynb\n",
      "Jupyer Notebook Shortcuts.ipynb\n",
      "Opening, reading and writing files.ipynb\n",
      "Term Definitions.ipynb\n",
      "Working with folders.ipynb\n"
     ]
    }
   ],
   "source": [
    "# string methods\n",
    "\n",
    "# Get .ipynb files\n",
    "for f_name in os.listdir(my_directory): # note I'm using listdir() here rather than scandir()\n",
    "    if f_name.endswith('.ipynb'):\n",
    "        print(f_name)"
   ]
  },
  {
   "cell_type": "code",
   "execution_count": 13,
   "id": "spread-geneva",
   "metadata": {},
   "outputs": [
    {
     "name": "stdout",
     "output_type": "stream",
     "text": [
      "Anaconda Prompt and Environments.ipynb\n",
      "Jupyer Notebook Shortcuts.ipynb\n",
      "Opening, reading and writing files.ipynb\n",
      "Term Definitions.ipynb\n",
      "Working with folders.ipynb\n"
     ]
    }
   ],
   "source": [
    "# using fnmatch()\n",
    "\n",
    "import fnmatch\n",
    "\n",
    "for file_name in os.listdir(my_directory):\n",
    "    if fnmatch.fnmatch(file_name, '*.ipynb'):\n",
    "        print(file_name)"
   ]
  },
  {
   "cell_type": "code",
   "execution_count": 16,
   "id": "pressed-technology",
   "metadata": {},
   "outputs": [
    {
     "name": "stdout",
     "output_type": "stream",
     "text": [
      "weights-2020-01-01.txt\n",
      "weights-2020-01-02.txt\n",
      "weights-2020-01-03.txt\n",
      "weights-2020-01-04.txt\n"
     ]
    }
   ],
   "source": [
    "# more advanced example\n",
    "\n",
    "# use sub-directory for this example\n",
    "my_subdir = 'C:\\\\Users\\\\ptudor\\\\Documents\\\\GitHub\\\\python-basics\\\\test-folder-with-csv-files'\n",
    "\n",
    "for filename in os.listdir(my_subdir):\n",
    "    # '*' indicates any string between other values\n",
    "    if fnmatch.fnmatch(filename, 'weights-*.txt'):\n",
    "        print(filename)"
   ]
  },
  {
   "cell_type": "code",
   "execution_count": 19,
   "id": "specific-merchandise",
   "metadata": {},
   "outputs": [
    {
     "data": {
      "text/plain": [
       "['Anaconda Prompt and Environments.ipynb',\n",
       " 'Jupyer Notebook Shortcuts.ipynb',\n",
       " 'Opening, reading and writing files.ipynb',\n",
       " 'Term Definitions.ipynb',\n",
       " 'Working with folders.ipynb']"
      ]
     },
     "execution_count": 19,
     "metadata": {},
     "output_type": "execute_result"
    }
   ],
   "source": [
    "# using glob\n",
    "\n",
    "import glob\n",
    "\n",
    "glob.glob('*.ipynb')"
   ]
  },
  {
   "cell_type": "markdown",
   "id": "powered-depression",
   "metadata": {},
   "source": [
    "Glob can work recursively in subdirectories as well -"
   ]
  },
  {
   "cell_type": "code",
   "execution_count": 26,
   "id": "geological-tradition",
   "metadata": {},
   "outputs": [
    {
     "name": "stdout",
     "output_type": "stream",
     "text": [
      "test-folder-with-csv-files\\weights-2020-01-01.txt\n",
      "test-folder-with-csv-files\\weights-2020-01-02.txt\n",
      "test-folder-with-csv-files\\weights-2020-01-03.txt\n",
      "test-folder-with-csv-files\\weights-2020-01-04.txt\n"
     ]
    }
   ],
   "source": [
    "# **/ allows for nabigation of multiple directory levels\n",
    "for file in glob.iglob('**/*.txt', recursive = True):\n",
    "    print(file)"
   ]
  },
  {
   "cell_type": "markdown",
   "id": "southeast-creation",
   "metadata": {},
   "source": [
    "`iglob` returns an iterator, whereas `glob` returns a list.\n",
    "\n",
    "## Traversing directories\n",
    "\n",
    "`os.walk()` allows you to navigate a directory tree. It defaults to traversing a directory from the top down."
   ]
  },
  {
   "cell_type": "code",
   "execution_count": 33,
   "id": "specific-adolescent",
   "metadata": {},
   "outputs": [
    {
     "name": "stdout",
     "output_type": "stream",
     "text": [
      "Found directory: C:\\Users\\ptudor\\Documents\\GitHub\\python-basics\n",
      ".gitattributes\n",
      "Anaconda Prompt and Environments.ipynb\n",
      "Jupyer Notebook Shortcuts.ipynb\n",
      "Opening, reading and writing files.ipynb\n",
      "README.md\n",
      "Term Definitions.ipynb\n",
      "Working with folders.ipynb\n",
      "Found directory: C:\\Users\\ptudor\\Documents\\GitHub\\python-basics\\.git\n",
      "COMMIT_EDITMSG\n",
      "config\n",
      "description\n",
      "FETCH_HEAD\n",
      "HEAD\n",
      "index\n",
      "Found directory: C:\\Users\\ptudor\\Documents\\GitHub\\python-basics\\.git\\hooks\n",
      "applypatch-msg.sample\n",
      "commit-msg.sample\n",
      "fsmonitor-watchman.sample\n",
      "post-update.sample\n",
      "pre-applypatch.sample\n",
      "pre-commit.sample\n",
      "pre-merge-commit.sample\n",
      "pre-push.sample\n",
      "pre-rebase.sample\n",
      "pre-receive.sample\n",
      "prepare-commit-msg.sample\n",
      "update.sample\n",
      "Found directory: C:\\Users\\ptudor\\Documents\\GitHub\\python-basics\\.git\\info\n",
      "exclude\n",
      "Found directory: C:\\Users\\ptudor\\Documents\\GitHub\\python-basics\\.git\\logs\n",
      "HEAD\n",
      "Found directory: C:\\Users\\ptudor\\Documents\\GitHub\\python-basics\\.git\\logs\\refs\n",
      "Found directory: C:\\Users\\ptudor\\Documents\\GitHub\\python-basics\\.git\\logs\\refs\\heads\n",
      "main\n",
      "Found directory: C:\\Users\\ptudor\\Documents\\GitHub\\python-basics\\.git\\logs\\refs\\remotes\n",
      "Found directory: C:\\Users\\ptudor\\Documents\\GitHub\\python-basics\\.git\\logs\\refs\\remotes\\origin\n",
      "main\n",
      "Found directory: C:\\Users\\ptudor\\Documents\\GitHub\\python-basics\\.git\\objects\n",
      "Found directory: C:\\Users\\ptudor\\Documents\\GitHub\\python-basics\\.git\\objects\\01\n",
      "4e434645844572f277e4b68f766504e9b12b99\n",
      "Found directory: C:\\Users\\ptudor\\Documents\\GitHub\\python-basics\\.git\\objects\\05\n",
      "9a9ef5a15d6d9f4af51ccb8aecbb33a109f150\n",
      "f34d22caa5bf547a4b8ee766e3d5efb2b853c4\n",
      "Found directory: C:\\Users\\ptudor\\Documents\\GitHub\\python-basics\\.git\\objects\\09\n",
      "878f4f8c12c24cbf4d7bdd43a9536297b6a74c\n",
      "Found directory: C:\\Users\\ptudor\\Documents\\GitHub\\python-basics\\.git\\objects\\0e\n",
      "c3b3d1e1f65ade9009caed4cf60e23f8a42502\n",
      "Found directory: C:\\Users\\ptudor\\Documents\\GitHub\\python-basics\\.git\\objects\\15\n",
      "6fbf34a8e74ece14f904a8b1838b2b6dc2e31b\n",
      "Found directory: C:\\Users\\ptudor\\Documents\\GitHub\\python-basics\\.git\\objects\\19\n",
      "b39a2187f3e3f28033cf13dff2d0cf59f77ffb\n",
      "Found directory: C:\\Users\\ptudor\\Documents\\GitHub\\python-basics\\.git\\objects\\36\n",
      "295614822f7118d7bf45291b80f2a594624e5c\n",
      "2ecebb4015c42f44cb6e02c815a02a2a6e837f\n",
      "Found directory: C:\\Users\\ptudor\\Documents\\GitHub\\python-basics\\.git\\objects\\38\n",
      "da18a179dd3e33e25d2e52f27ee06f9edd95ca\n",
      "Found directory: C:\\Users\\ptudor\\Documents\\GitHub\\python-basics\\.git\\objects\\39\n",
      "00a7839e531fd48870b02ea4eb01cb962ab424\n",
      "Found directory: C:\\Users\\ptudor\\Documents\\GitHub\\python-basics\\.git\\objects\\45\n",
      "ee8249988f7ea8de6aad99661f52096c2b58d2\n",
      "Found directory: C:\\Users\\ptudor\\Documents\\GitHub\\python-basics\\.git\\objects\\46\n",
      "c342f2a7af6bdb1aa8ccc44845f3c94c657350\n",
      "Found directory: C:\\Users\\ptudor\\Documents\\GitHub\\python-basics\\.git\\objects\\52\n",
      "bd273698e745d5c525a265da69e640e6b5e95f\n",
      "f4d5f954bb11fed58f6af833af8afa947296d8\n",
      "Found directory: C:\\Users\\ptudor\\Documents\\GitHub\\python-basics\\.git\\objects\\57\n",
      "d042f87db1fe3ab461c91a6d59916882e53ee4\n",
      "Found directory: C:\\Users\\ptudor\\Documents\\GitHub\\python-basics\\.git\\objects\\5c\n",
      "ce63e86047a87f9238343ca2ad4435674c77bb\n",
      "Found directory: C:\\Users\\ptudor\\Documents\\GitHub\\python-basics\\.git\\objects\\65\n",
      "10e0d25440f5bc83dc0d4253a70c4786b60a03\n",
      "Found directory: C:\\Users\\ptudor\\Documents\\GitHub\\python-basics\\.git\\objects\\68\n",
      "626e0e0a94b19ecc7cf0a35412f8966e26f08a\n",
      "Found directory: C:\\Users\\ptudor\\Documents\\GitHub\\python-basics\\.git\\objects\\6e\n",
      "6b5f997fe4ef7c821fcb2b86639273c3f0e779\n",
      "Found directory: C:\\Users\\ptudor\\Documents\\GitHub\\python-basics\\.git\\objects\\73\n",
      "7d9ea8cd8c0ec1bd6fbadf3429f1eef047f8ea\n",
      "Found directory: C:\\Users\\ptudor\\Documents\\GitHub\\python-basics\\.git\\objects\\7f\n",
      "3916e212b6dd5c95b5fbcddf076ba13be436cc\n",
      "Found directory: C:\\Users\\ptudor\\Documents\\GitHub\\python-basics\\.git\\objects\\86\n",
      "ad8b53f2524f29083bb47e2db444ea9803be33\n",
      "Found directory: C:\\Users\\ptudor\\Documents\\GitHub\\python-basics\\.git\\objects\\8c\n",
      "a45944532aa93fe0b9e2bd6604baa9c4e18492\n",
      "Found directory: C:\\Users\\ptudor\\Documents\\GitHub\\python-basics\\.git\\objects\\96\n",
      "62428af04a2a841b845e294f9b20b1389c7c9f\n",
      "Found directory: C:\\Users\\ptudor\\Documents\\GitHub\\python-basics\\.git\\objects\\9d\n",
      "3ff6357b27e8516b6a909b9d89ad7a322155f3\n",
      "Found directory: C:\\Users\\ptudor\\Documents\\GitHub\\python-basics\\.git\\objects\\a4\n",
      "9518c9b423f39153c6adadd0503d8c12c49208\n",
      "Found directory: C:\\Users\\ptudor\\Documents\\GitHub\\python-basics\\.git\\objects\\ab\n",
      "37507ae6212674b52144e2f7f6f056e8ba5393\n",
      "Found directory: C:\\Users\\ptudor\\Documents\\GitHub\\python-basics\\.git\\objects\\ad\n",
      "86b4f39cae4b68d7f56e76b61c007cc18a49bf\n",
      "Found directory: C:\\Users\\ptudor\\Documents\\GitHub\\python-basics\\.git\\objects\\b6\n",
      "0c0bd4d0b38a88ce1a8f939076a8e4fd955ce9\n",
      "Found directory: C:\\Users\\ptudor\\Documents\\GitHub\\python-basics\\.git\\objects\\bd\n",
      "e3c0693ac1e119665b3a1044d37fbd58f75480\n",
      "Found directory: C:\\Users\\ptudor\\Documents\\GitHub\\python-basics\\.git\\objects\\be\n",
      "b51bc5192e5dcd3be10b227ec9cae9483b810a\n",
      "Found directory: C:\\Users\\ptudor\\Documents\\GitHub\\python-basics\\.git\\objects\\c0\n",
      "9f876df14dc69dac253cc83f018651c65a406b\n",
      "Found directory: C:\\Users\\ptudor\\Documents\\GitHub\\python-basics\\.git\\objects\\c4\n",
      "ae37105fadc11201d9a7ec9dcd517b60df9f58\n",
      "Found directory: C:\\Users\\ptudor\\Documents\\GitHub\\python-basics\\.git\\objects\\c5\n",
      "546e6c09b24df471614ad3ea8ef44313aec567\n",
      "Found directory: C:\\Users\\ptudor\\Documents\\GitHub\\python-basics\\.git\\objects\\c8\n",
      "2caf43daf38eaf1d061b4ac411e86dfcde637b\n",
      "Found directory: C:\\Users\\ptudor\\Documents\\GitHub\\python-basics\\.git\\objects\\d1\n",
      "47df47738d32461fd93ffd2296d105bde123a0\n",
      "Found directory: C:\\Users\\ptudor\\Documents\\GitHub\\python-basics\\.git\\objects\\d4\n",
      "0df835cd69f68c36bd5323f28e0ab576822942\n",
      "Found directory: C:\\Users\\ptudor\\Documents\\GitHub\\python-basics\\.git\\objects\\df\n",
      "e0770424b2a19faf507a501ebfc23be8f54e7b\n",
      "Found directory: C:\\Users\\ptudor\\Documents\\GitHub\\python-basics\\.git\\objects\\e2\n",
      "648eac714ba388f4f9d6daca4030918f8b7744\n",
      "Found directory: C:\\Users\\ptudor\\Documents\\GitHub\\python-basics\\.git\\objects\\e5\n",
      "747af04f30c6b49fa8e9e1913c743a4866b2fc\n",
      "Found directory: C:\\Users\\ptudor\\Documents\\GitHub\\python-basics\\.git\\objects\\e7\n",
      "63f8119bdc803b3a38b16bad76e148b61337a7\n",
      "Found directory: C:\\Users\\ptudor\\Documents\\GitHub\\python-basics\\.git\\objects\\f3\n",
      "d34a1971e64ea08217b6ceffa7b2a9cb7f36c6\n",
      "Found directory: C:\\Users\\ptudor\\Documents\\GitHub\\python-basics\\.git\\objects\\f4\n",
      "c48660133200a5f5720858d417806d70c0598a\n",
      "Found directory: C:\\Users\\ptudor\\Documents\\GitHub\\python-basics\\.git\\objects\\info\n",
      "Found directory: C:\\Users\\ptudor\\Documents\\GitHub\\python-basics\\.git\\objects\\pack\n",
      "Found directory: C:\\Users\\ptudor\\Documents\\GitHub\\python-basics\\.git\\refs\n",
      "Found directory: C:\\Users\\ptudor\\Documents\\GitHub\\python-basics\\.git\\refs\\heads\n",
      "main\n",
      "Found directory: C:\\Users\\ptudor\\Documents\\GitHub\\python-basics\\.git\\refs\\remotes\n",
      "Found directory: C:\\Users\\ptudor\\Documents\\GitHub\\python-basics\\.git\\refs\\remotes\\origin\n",
      "main\n",
      "Found directory: C:\\Users\\ptudor\\Documents\\GitHub\\python-basics\\.git\\refs\\tags\n",
      "Found directory: C:\\Users\\ptudor\\Documents\\GitHub\\python-basics\\.ipynb_checkpoints\n",
      "Anaconda Prompt and Environments-checkpoint.ipynb\n",
      "Jupyer Notebook Shortcuts-checkpoint.ipynb\n",
      "Opening, reading and writing files-checkpoint.ipynb\n",
      "Term Definitions-checkpoint.ipynb\n",
      "Working with folders-checkpoint.ipynb\n",
      "Found directory: C:\\Users\\ptudor\\Documents\\GitHub\\python-basics\\pictures-for-notebooks\n",
      "current-environment.png\n",
      "Found directory: C:\\Users\\ptudor\\Documents\\GitHub\\python-basics\\test-folder-with-csv-files\n",
      "weights-2020-01-01.txt\n",
      "weights-2020-01-02.txt\n",
      "weights-2020-01-03.txt\n",
      "weights-2020-01-04.txt\n"
     ]
    }
   ],
   "source": [
    "for dirpath, dirnames, files in os.walk(my_directory):\n",
    "    print(f'Found directory: {dirpath}')\n",
    "    for file_name in files:\n",
    "            print(file_name)"
   ]
  },
  {
   "cell_type": "markdown",
   "id": "cardiac-refrigerator",
   "metadata": {},
   "source": [
    "That's a lot of files! Additional steps like those shown above can be added to focus on the files we're interested in. For the following example I used the top solution from [here](https://stackoverflow.com/questions/19859840/excluding-directories-in-os-walk)."
   ]
  },
  {
   "cell_type": "code",
   "execution_count": 39,
   "id": "informal-underwear",
   "metadata": {},
   "outputs": [],
   "source": [
    "# check directory names to decide which we may want to remove\n",
    "# for dirpath, dirnames, files in os.walk(my_directory):\n",
    "#     print(f'Found directory names: {dirnames}')"
   ]
  },
  {
   "cell_type": "code",
   "execution_count": 38,
   "id": "hourly-tooth",
   "metadata": {},
   "outputs": [
    {
     "name": "stdout",
     "output_type": "stream",
     "text": [
      "Found directory: C:\\Users\\ptudor\\Documents\\GitHub\\python-basics\n",
      ".gitattributes\n",
      "Anaconda Prompt and Environments.ipynb\n",
      "Jupyer Notebook Shortcuts.ipynb\n",
      "Opening, reading and writing files.ipynb\n",
      "README.md\n",
      "Term Definitions.ipynb\n",
      "Working with folders.ipynb\n",
      "Found directory: C:\\Users\\ptudor\\Documents\\GitHub\\python-basics\\pictures-for-notebooks\n",
      "current-environment.png\n",
      "Found directory: C:\\Users\\ptudor\\Documents\\GitHub\\python-basics\\test-folder-with-csv-files\n",
      "weights-2020-01-01.txt\n",
      "weights-2020-01-02.txt\n",
      "weights-2020-01-03.txt\n",
      "weights-2020-01-04.txt\n"
     ]
    }
   ],
   "source": [
    "# put exclusions in a set\n",
    "exclude = {'.git', '.ipynb_checkpoints'}\n",
    "\n",
    "for dirpath, dirnames, files in os.walk(my_directory):\n",
    "\n",
    "    # remove excluded directory names from the walk\n",
    "    dirnames[:] = [d for d in dirnames if d not in exclude]\n",
    "    print(f'Found directory: {dirpath}')\n",
    "    for file_name in files:\n",
    "        print(file_name)"
   ]
  },
  {
   "cell_type": "markdown",
   "id": "irish-castle",
   "metadata": {},
   "source": [
    "## Reading multiple files\n",
    "\n",
    "Now I understand the above, I'm ready to put together some code which looks through a directory, identifies files of a certain type, reads them into python, and appends them into a table."
   ]
  },
  {
   "cell_type": "code",
   "execution_count": 81,
   "id": "close-collection",
   "metadata": {
    "scrolled": true
   },
   "outputs": [],
   "source": [
    "# using pandas\n",
    "import pandas as pd\n",
    "\n",
    "# identify the directory\n",
    "my_directory = os.getcwd()\n",
    "\n",
    "# create an empty list for file names\n",
    "my_files = []\n",
    "\n",
    "# add files of interest to the list\n",
    "for dirpath, dirnames, files in os.walk(my_directory):\n",
    "    for file_name in files:\n",
    "        if fnmatch.fnmatch(file_name, 'weights*.txt'):\n",
    "            my_file = dirpath + '\\\\' + file_name\n",
    "            my_files.append(my_file)\n",
    "\n",
    "# print(my_files)\n",
    "\n",
    "# create an empty list for file content\n",
    "my_content = []\n",
    "\n",
    "# append individual files into the content list\n",
    "for filename in my_files:\n",
    "    df = pd.read_csv(filename, sep = '|', \n",
    "                     index_col = None, \n",
    "                     parse_dates = ['Date'],\n",
    "                     header = 0,\n",
    "                     names = ['Date', 'PersonID', 'FirstName', 'Age', 'Weight'])\n",
    "    my_content.append(df)\n",
    "    \n",
    "# concatenate the objects in the list\n",
    "# axis = 0 instructs to concatenate by index, rather than columns\n",
    "my_data = pd.concat(my_content, axis = 0, ignore_index = True)"
   ]
  },
  {
   "cell_type": "code",
   "execution_count": 76,
   "id": "deadly-elimination",
   "metadata": {},
   "outputs": [
    {
     "data": {
      "text/html": [
       "<div>\n",
       "<style scoped>\n",
       "    .dataframe tbody tr th:only-of-type {\n",
       "        vertical-align: middle;\n",
       "    }\n",
       "\n",
       "    .dataframe tbody tr th {\n",
       "        vertical-align: top;\n",
       "    }\n",
       "\n",
       "    .dataframe thead th {\n",
       "        text-align: right;\n",
       "    }\n",
       "</style>\n",
       "<table border=\"1\" class=\"dataframe\">\n",
       "  <thead>\n",
       "    <tr style=\"text-align: right;\">\n",
       "      <th></th>\n",
       "      <th>Date</th>\n",
       "      <th>PersonID</th>\n",
       "      <th>FirstName</th>\n",
       "      <th>Age</th>\n",
       "      <th>Weight</th>\n",
       "    </tr>\n",
       "  </thead>\n",
       "  <tbody>\n",
       "    <tr>\n",
       "      <th>0</th>\n",
       "      <td>2020-01-01</td>\n",
       "      <td>1</td>\n",
       "      <td>Tom</td>\n",
       "      <td>32</td>\n",
       "      <td>80</td>\n",
       "    </tr>\n",
       "    <tr>\n",
       "      <th>1</th>\n",
       "      <td>2020-01-01</td>\n",
       "      <td>2</td>\n",
       "      <td>Matt A</td>\n",
       "      <td>33</td>\n",
       "      <td>78</td>\n",
       "    </tr>\n",
       "    <tr>\n",
       "      <th>2</th>\n",
       "      <td>2020-01-01</td>\n",
       "      <td>3</td>\n",
       "      <td>Alex</td>\n",
       "      <td>31</td>\n",
       "      <td>90</td>\n",
       "    </tr>\n",
       "    <tr>\n",
       "      <th>3</th>\n",
       "      <td>2020-01-01</td>\n",
       "      <td>4</td>\n",
       "      <td>Matt P</td>\n",
       "      <td>32</td>\n",
       "      <td>76</td>\n",
       "    </tr>\n",
       "    <tr>\n",
       "      <th>4</th>\n",
       "      <td>2020-01-01</td>\n",
       "      <td>5</td>\n",
       "      <td>Pat</td>\n",
       "      <td>32</td>\n",
       "      <td>70</td>\n",
       "    </tr>\n",
       "    <tr>\n",
       "      <th>5</th>\n",
       "      <td>2020-01-02</td>\n",
       "      <td>1</td>\n",
       "      <td>Tom</td>\n",
       "      <td>32</td>\n",
       "      <td>79</td>\n",
       "    </tr>\n",
       "    <tr>\n",
       "      <th>6</th>\n",
       "      <td>2020-01-02</td>\n",
       "      <td>2</td>\n",
       "      <td>Matt A</td>\n",
       "      <td>33</td>\n",
       "      <td>78</td>\n",
       "    </tr>\n",
       "    <tr>\n",
       "      <th>7</th>\n",
       "      <td>2020-01-02</td>\n",
       "      <td>3</td>\n",
       "      <td>Alex</td>\n",
       "      <td>31</td>\n",
       "      <td>91</td>\n",
       "    </tr>\n",
       "    <tr>\n",
       "      <th>8</th>\n",
       "      <td>2020-01-02</td>\n",
       "      <td>4</td>\n",
       "      <td>Matt P</td>\n",
       "      <td>32</td>\n",
       "      <td>77</td>\n",
       "    </tr>\n",
       "    <tr>\n",
       "      <th>9</th>\n",
       "      <td>2020-01-02</td>\n",
       "      <td>5</td>\n",
       "      <td>Pat</td>\n",
       "      <td>32</td>\n",
       "      <td>71</td>\n",
       "    </tr>\n",
       "    <tr>\n",
       "      <th>10</th>\n",
       "      <td>2020-01-03</td>\n",
       "      <td>1</td>\n",
       "      <td>Tom</td>\n",
       "      <td>32</td>\n",
       "      <td>80</td>\n",
       "    </tr>\n",
       "    <tr>\n",
       "      <th>11</th>\n",
       "      <td>2020-01-03</td>\n",
       "      <td>2</td>\n",
       "      <td>Matt A</td>\n",
       "      <td>33</td>\n",
       "      <td>77</td>\n",
       "    </tr>\n",
       "    <tr>\n",
       "      <th>12</th>\n",
       "      <td>2020-01-03</td>\n",
       "      <td>3</td>\n",
       "      <td>Alex</td>\n",
       "      <td>31</td>\n",
       "      <td>89</td>\n",
       "    </tr>\n",
       "    <tr>\n",
       "      <th>13</th>\n",
       "      <td>2020-01-03</td>\n",
       "      <td>4</td>\n",
       "      <td>Matt P</td>\n",
       "      <td>32</td>\n",
       "      <td>75</td>\n",
       "    </tr>\n",
       "    <tr>\n",
       "      <th>14</th>\n",
       "      <td>2020-01-03</td>\n",
       "      <td>5</td>\n",
       "      <td>Pat</td>\n",
       "      <td>32</td>\n",
       "      <td>70</td>\n",
       "    </tr>\n",
       "    <tr>\n",
       "      <th>15</th>\n",
       "      <td>2020-01-04</td>\n",
       "      <td>1</td>\n",
       "      <td>Tom</td>\n",
       "      <td>33</td>\n",
       "      <td>78</td>\n",
       "    </tr>\n",
       "    <tr>\n",
       "      <th>16</th>\n",
       "      <td>2020-01-04</td>\n",
       "      <td>2</td>\n",
       "      <td>Matt A</td>\n",
       "      <td>33</td>\n",
       "      <td>77</td>\n",
       "    </tr>\n",
       "    <tr>\n",
       "      <th>17</th>\n",
       "      <td>2020-01-04</td>\n",
       "      <td>3</td>\n",
       "      <td>Alex</td>\n",
       "      <td>31</td>\n",
       "      <td>91</td>\n",
       "    </tr>\n",
       "    <tr>\n",
       "      <th>18</th>\n",
       "      <td>2020-01-04</td>\n",
       "      <td>4</td>\n",
       "      <td>Matt P</td>\n",
       "      <td>32</td>\n",
       "      <td>75</td>\n",
       "    </tr>\n",
       "    <tr>\n",
       "      <th>19</th>\n",
       "      <td>2020-01-04</td>\n",
       "      <td>5</td>\n",
       "      <td>Pat</td>\n",
       "      <td>32</td>\n",
       "      <td>70</td>\n",
       "    </tr>\n",
       "  </tbody>\n",
       "</table>\n",
       "</div>"
      ],
      "text/plain": [
       "         Date  PersonID FirstName  Age  Weight\n",
       "0  2020-01-01         1       Tom   32      80\n",
       "1  2020-01-01         2    Matt A   33      78\n",
       "2  2020-01-01         3      Alex   31      90\n",
       "3  2020-01-01         4    Matt P   32      76\n",
       "4  2020-01-01         5       Pat   32      70\n",
       "5  2020-01-02         1       Tom   32      79\n",
       "6  2020-01-02         2    Matt A   33      78\n",
       "7  2020-01-02         3      Alex   31      91\n",
       "8  2020-01-02         4    Matt P   32      77\n",
       "9  2020-01-02         5       Pat   32      71\n",
       "10 2020-01-03         1       Tom   32      80\n",
       "11 2020-01-03         2    Matt A   33      77\n",
       "12 2020-01-03         3      Alex   31      89\n",
       "13 2020-01-03         4    Matt P   32      75\n",
       "14 2020-01-03         5       Pat   32      70\n",
       "15 2020-01-04         1       Tom   33      78\n",
       "16 2020-01-04         2    Matt A   33      77\n",
       "17 2020-01-04         3      Alex   31      91\n",
       "18 2020-01-04         4    Matt P   32      75\n",
       "19 2020-01-04         5       Pat   32      70"
      ]
     },
     "execution_count": 76,
     "metadata": {},
     "output_type": "execute_result"
    }
   ],
   "source": [
    "my_data"
   ]
  },
  {
   "cell_type": "code",
   "execution_count": 79,
   "id": "front-strip",
   "metadata": {},
   "outputs": [
    {
     "data": {
      "text/plain": [
       "<AxesSubplot:xlabel='Date', ylabel='Weight'>"
      ]
     },
     "execution_count": 79,
     "metadata": {},
     "output_type": "execute_result"
    },
    {
     "data": {
      "image/png": "[encoded data removed]",
      "text/plain": [
       "<Figure size 432x288 with 1 Axes>"
      ]
     },
     "metadata": {
      "needs_background": "light"
     },
     "output_type": "display_data"
    }
   ],
   "source": [
    "# plot the data :)\n",
    "\n",
    "import seaborn as sns\n",
    "\n",
    "sns.lineplot(data = my_data, x = 'Date', y = 'Weight', hue = 'FirstName')"
   ]
  },
  {
   "cell_type": "code",
   "execution_count": 19,
   "id": "fifth-waters",
   "metadata": {},
   "outputs": [],
   "source": [
    "# not using pandas - this writes a new file compiled from individual datasets\n",
    "\n",
    "import os\n",
    "import glob\n",
    "import fnmatch\n",
    "\n",
    "# identify the directory\n",
    "my_directory = os.getcwd()\n",
    "\n",
    "# create an empty list for file names\n",
    "my_files = []\n",
    "\n",
    "# add files of interest to the list\n",
    "for dirpath, dirnames, files in os.walk(my_directory):\n",
    "    for file_name in files:\n",
    "        if fnmatch.fnmatch(file_name, 'weights*.txt'):\n",
    "            my_file = dirpath + '\\\\' + file_name\n",
    "            my_files.append(my_file)\n",
    "\n",
    "cols = ['Date', 'PersonID', 'FirstName', 'Age', 'Weight']\n",
    "with open(\"weights_alldays.txt\", \"w\") as out:\n",
    "    # join the column names together with a comma between and then start a new line\n",
    "    # \"%s\" % - substitutes in the joined columns with commas \n",
    "    out.write(\"%s\\n\" % \"|\".join(cols))\n",
    "    for file in my_files:\n",
    "        with open(file) as f:\n",
    "            for idx, line in enumerate(f):\n",
    "                if idx > 0:\n",
    "                    out.write(line)"
   ]
  },
  {
   "cell_type": "code",
   "execution_count": 20,
   "id": "metropolitan-chicago",
   "metadata": {},
   "outputs": [
    {
     "name": "stdout",
     "output_type": "stream",
     "text": [
      "File removed!\n"
     ]
    }
   ],
   "source": [
    "# remove file (optional)\n",
    "\n",
    "# check if the file exists\n",
    "if os.path.exists('weights_alldays.txt'):\n",
    "    # delete the file if so -\n",
    "    os.remove('weights_alldays.txt')\n",
    "    print(\"File removed!\")\n",
    "else:\n",
    "    # return some really helpful text\n",
    "    print(\"Nope! This file doesn't exist!\")"
   ]
  }
 ],
 "metadata": {
  "kernelspec": {
   "display_name": "Python 3",
   "language": "python",
   "name": "python3"
  },
  "language_info": {
   "codemirror_mode": {
    "name": "ipython",
    "version": 3
   },
   "file_extension": ".py",
   "mimetype": "text/x-python",
   "name": "python",
   "nbconvert_exporter": "python",
   "pygments_lexer": "ipython3",
   "version": "3.7.6"
  }
 },
 "nbformat": 4,
 "nbformat_minor": 5
}
