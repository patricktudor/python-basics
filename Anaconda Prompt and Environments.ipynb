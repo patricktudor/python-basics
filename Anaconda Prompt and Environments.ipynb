{
 "cells": [
  {
   "cell_type": "markdown",
   "id": "physical-fetish",
   "metadata": {},
   "source": [
    "# Anaconda Prompt and Environments\n",
    "\n",
    "Open Anaconda prompt from the start menu. It's a command line interface.\n",
    "\n",
    "## Opening Jupyter Notebook\n",
    "\n",
    "A Jupyter notebook can then be opened by typing `jupyter notebook` in the command line.\n",
    "\n",
    "## Environments\n",
    "\n"
   ]
  }
 ],
 "metadata": {
  "kernelspec": {
   "display_name": "Python 3",
   "language": "python",
   "name": "python3"
  },
  "language_info": {
   "codemirror_mode": {
    "name": "ipython",
    "version": 3
   },
   "file_extension": ".py",
   "mimetype": "text/x-python",
   "name": "python",
   "nbconvert_exporter": "python",
   "pygments_lexer": "ipython3",
   "version": "3.7.6"
  }
 },
 "nbformat": 4,
 "nbformat_minor": 5
}
