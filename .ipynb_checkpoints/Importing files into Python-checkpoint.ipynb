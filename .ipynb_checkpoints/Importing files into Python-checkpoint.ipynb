{
 "cells": [
  {
   "cell_type": "markdown",
   "id": "moderate-salvation",
   "metadata": {},
   "source": [
    "# Importing files into Python\n",
    "\n",
    "The aim of this notebook is to describe how to import a folder of files into a single csv or dataframe in Python.\n",
    "\n",
    "I have created a very small example folder to practice with here - `GitHub\\python-basics\\test-folder-with-csv-files\\`\n",
    "\n",
    "There is plenty of stuff to review before we even get to the folder. There's some nice reading [here](https://dbader.org/blog/python-file-io) about the fundamentals of working with files in Python which I'll loosely follow along. First up - file types\n",
    "\n",
    "## Terms / abbreviations to know\n",
    "\n",
    "- I/O - input/output\n",
    "- `\\n` - new line\n",
    "\n",
    "## Binary vs Text\n",
    "\n",
    "There are two types of files that python can handle - binary and text.\n",
    "\n",
    "Examples of **binary** files\n",
    "- Image files (.jpg, .png, .gif, etc)\n",
    "- Database files (.mdb, .frm, .sqlite, etc)\n",
    "- Documents (.doc, .xlsx, .pdf, etc)\n",
    "\n",
    "These files require specific software and handling to open.\n",
    "\n",
    "**Text** files have no specific coding and can be opened by a standard text editor. There are rules for text files\n",
    "- A text file has to be readable as is\n",
    "- data is organised in lines - each line is a distinct element, e.g. line of instruction, command, etc\n",
    "- they have an unseen character at the end of each line to let the editor know there should be a new line\n",
    "\n",
    "## Built in Python functions\n",
    "\n",
    "The first function to know is `open()`"
   ]
  },
  {
   "cell_type": "code",
   "execution_count": 11,
   "id": "dimensional-crime",
   "metadata": {},
   "outputs": [],
   "source": [
    "my_first_file = open(file = 'test-folder-with-csv-files/weights-2020-01-01.txt', \n",
    "                     mode = 'r+')"
   ]
  },
  {
   "cell_type": "markdown",
   "id": "warming-fundamental",
   "metadata": {},
   "source": [
    "The `mode` parameter is to tell python what to do with the file\n",
    "- **'w'** - write mode\n",
    "- **'r'** - read mode\n",
    "- **'a'** - append mode\n",
    "- **'r+'** - read/write mode\n",
    "- **'a+'** - append and read mode\n",
    "\n",
    "If opening a binary file then these modes have a **b** at the end, like \n",
    "**'wb'**, **'r+b'**, etc.\n",
    "\n",
    "To close a file, add `close()` to the file object -"
   ]
  },
  {
   "cell_type": "code",
   "execution_count": 4,
   "id": "greenhouse-battery",
   "metadata": {},
   "outputs": [],
   "source": [
    "my_first_file.close()"
   ]
  },
  {
   "cell_type": "markdown",
   "id": "scheduled-render",
   "metadata": {},
   "source": [
    "The best way to open and close files is to use `with`. It closes the file after the nested code block"
   ]
  },
  {
   "cell_type": "code",
   "execution_count": 12,
   "id": "macro-hopkins",
   "metadata": {},
   "outputs": [],
   "source": [
    "with open('test-folder-with-csv-files/weights-2020-01-01.txt', 'r+') as my_file:\n",
    "    my_file.read()"
   ]
  },
  {
   "cell_type": "markdown",
   "id": "freelance-weapon",
   "metadata": {},
   "source": [
    "## Reading data from a file\n",
    "\n",
    "By default, `read(size)` will read the entire file and print it out as a string (text) or as byte objects (binary). If the file size is larger than available memory, it won't be able to read the whole file at once, therefore the size parameter can be used to break the file up into chunks that available memory can handle. **size** says how many bytes into the file to return."
   ]
  },
  {
   "cell_type": "code",
   "execution_count": 13,
   "id": "productive-recall",
   "metadata": {},
   "outputs": [
    {
     "name": "stdout",
     "output_type": "stream",
     "text": [
      "The file name:  <_io.TextIOWrapper name='test-folder-with-csv-files/weights-2020-01-01.txt' mode='r+' encoding='cp1252'>\n",
      "Day|PersonID|Name|Age|Weight\n",
      "2020-01-01|1|Tom|32|80\n",
      "2020-01-01|2|Matt|33|78\n",
      "2020-01-01|3|Alex|31|90\n",
      "2020-01-01|4|Matt|32|76\n",
      "2020-01-01|5|Pat|32|70\n"
     ]
    }
   ],
   "source": [
    "with open('test-folder-with-csv-files/weights-2020-01-01.txt', 'r+') as my_file:\n",
    "    print(\"The file name: \", my_file)\n",
    "    line = my_file.read()\n",
    "    print(line)"
   ]
  },
  {
   "cell_type": "code",
   "execution_count": 16,
   "id": "urban-incidence",
   "metadata": {},
   "outputs": [
    {
     "name": "stdout",
     "output_type": "stream",
     "text": [
      "The file name:  <_io.TextIOWrapper name='test-folder-with-csv-files/weights-2020-01-01.txt' mode='r+' encoding='cp1252'>\n",
      "Day|Pers\n"
     ]
    }
   ],
   "source": [
    "with open('test-folder-with-csv-files/weights-2020-01-01.txt', 'r+') as my_file:\n",
    "    print(\"The file name: \", my_file)\n",
    "    line = my_file.read(8) # limit size of what is read\n",
    "    print(line)"
   ]
  },
  {
   "cell_type": "markdown",
   "id": "according-wilderness",
   "metadata": {},
   "source": [
    "## Read data line-by-line\n",
    "\n",
    "Using `readline(size)` by default reads the first line of a file."
   ]
  },
  {
   "cell_type": "code",
   "execution_count": 24,
   "id": "resident-medicine",
   "metadata": {},
   "outputs": [
    {
     "name": "stdout",
     "output_type": "stream",
     "text": [
      "The file name:  <_io.TextIOWrapper name='test-folder-with-csv-files/weights-2020-01-01.txt' mode='r+' encoding='cp1252'>\n",
      "Day|PersonID|Name|Age|Weight\n",
      "\n"
     ]
    }
   ],
   "source": [
    "with open('test-folder-with-csv-files/weights-2020-01-01.txt', 'r+') as my_file:\n",
    "    print(\"The file name: \", my_file)\n",
    "    print(my_file.readline())\n",
    "    # print(my_file.readline()) # use multiple times to call more lines"
   ]
  },
  {
   "cell_type": "markdown",
   "id": "needed-integrity",
   "metadata": {},
   "source": [
    "`readlines()` returns all lines as a list. This doesn't really work with binary files as it doesn't have a defined line end."
   ]
  },
  {
   "cell_type": "code",
   "execution_count": 26,
   "id": "noticed-prize",
   "metadata": {},
   "outputs": [
    {
     "name": "stdout",
     "output_type": "stream",
     "text": [
      "['Day|PersonID|Name|Age|Weight\\n', '2020-01-01|1|Tom|32|80\\n', '2020-01-01|2|Matt|33|78\\n', '2020-01-01|3|Alex|31|90\\n', '2020-01-01|4|Matt|32|76\\n', '2020-01-01|5|Pat|32|70']\n"
     ]
    }
   ],
   "source": [
    "with open('test-folder-with-csv-files/weights-2020-01-01.txt', 'r+') as my_file:\n",
    "    print(my_file.readlines())"
   ]
  },
  {
   "cell_type": "markdown",
   "id": "owned-process",
   "metadata": {},
   "source": [
    "## Processing a text file line-by-line\n",
    "\n",
    "The easiest way is to use a loop. It is memory-efficient as it reads and processes each line individually."
   ]
  },
  {
   "cell_type": "code",
   "execution_count": 47,
   "id": "organic-winner",
   "metadata": {},
   "outputs": [
    {
     "name": "stdout",
     "output_type": "stream",
     "text": [
      "Day|PersonID|Name|Age|Weight\n",
      "\n",
      "2020-01-01|1|Tom|32|80\n",
      "\n",
      "2020-01-01|7|Barney|32|74\n",
      "\n",
      "2020-01-01|2|Matt|33|78\n",
      "\n",
      "2020-01-01|3|Alex|31|90\n",
      "\n",
      "2020-01-01|4|Matt|32|76\n",
      "\n",
      "2020-01-01|5|Pat|32|70\n",
      "\n",
      "2020-01-01|6|Jack|30|68\n",
      "\n"
     ]
    }
   ],
   "source": [
    "with open('test-folder-with-csv-files/weights-2020-01-01.txt', 'r+') as my_file:\n",
    "    for line in my_file: # for each element in the object\n",
    "        print(line)"
   ]
  },
  {
   "cell_type": "markdown",
   "id": "international-process",
   "metadata": {},
   "source": [
    "## Writing to a file\n",
    "\n",
    "The method to write to a file is `write(data)`. For example -\n",
    "\n",
    "*Note - don't run this unnecessarily!*"
   ]
  },
  {
   "cell_type": "code",
   "execution_count": 33,
   "id": "modified-borough",
   "metadata": {},
   "outputs": [],
   "source": [
    "with open('test-folder-with-csv-files/weights-2020-01-01.txt', 'a+') as my_file:\n",
    "    my_file.write('2020-01-01|6|Jack|30|68\\n') # \\n - new line"
   ]
  },
  {
   "cell_type": "markdown",
   "id": "narrative-chemistry",
   "metadata": {},
   "source": [
    "Anything to be written that isn't a string needs to be cast or converted to strings. Example - "
   ]
  },
  {
   "cell_type": "code",
   "execution_count": 37,
   "id": "musical-craft",
   "metadata": {},
   "outputs": [],
   "source": [
    "# values = [123456, 234567, 345678]\n",
    "\n",
    "# with open('test-folder-with-csv-files/weights-2020-01-01.txt', 'a+') as my_file:\n",
    "#     for value in values:\n",
    "#         str_value = str(value)\n",
    "#         my_file.write(str_value)\n",
    "#         my_file.write('\\n')"
   ]
  },
  {
   "cell_type": "markdown",
   "id": "rotary-payment",
   "metadata": {},
   "source": [
    "## Editing an existing text file\n",
    "\n",
    "You can't just use `w+` to edit as it will completey overwrite the file. Also, `a+` will always insert data at the end of the file. A way to do it is to extract the file into and array and then insert new data. Then it can be joined back and write it to file.\n",
    "\n",
    "For `list.insert(i, x)`, `i` is an integer than indicates the cell number. Then the data `x` is placed before the cell in the list indicated by `i`.\n",
    "\n",
    "So, for example -"
   ]
  },
  {
   "cell_type": "code",
   "execution_count": 38,
   "id": "prospective-hotel",
   "metadata": {},
   "outputs": [],
   "source": [
    "# open as read-only\n",
    "with open('test-folder-with-csv-files/weights-2020-01-01.txt', 'r') as my_file:\n",
    "    my_file_contents = my_file.readlines()\n",
    "    \n",
    "my_file_contents.insert(2, '2020-01-01|7|Barney|32|74\\n')\n",
    "\n",
    "# re-open in write-only mode to overwrite old file\n",
    "with open('test-folder-with-csv-files/weights-2020-01-01.txt', 'w') as my_file:\n",
    "    # join items together with nothing between them\n",
    "    my_fileContents = ''.join(my_file_contents) \n",
    "    my_file.write(my_fileContents)"
   ]
  },
  {
   "cell_type": "markdown",
   "id": "constant-birthday",
   "metadata": {},
   "source": [
    "## Remove a line from a file\n",
    "\n",
    "Found this on stack overflow [here](https://stackoverflow.com/questions/4710067/how-to-delete-a-specific-line-in-a-file) so adapted it to remove the extract stuff we've just written into the original file -"
   ]
  },
  {
   "cell_type": "code",
   "execution_count": 49,
   "id": "dimensional-governor",
   "metadata": {},
   "outputs": [
    {
     "name": "stdout",
     "output_type": "stream",
     "text": [
      "Day|PersonID|Name|Age|Weight\n",
      "\n",
      "2020-01-01|1|Tom|32|80\n",
      "\n",
      "2020-01-01|2|Matt|33|78\n",
      "\n",
      "2020-01-01|3|Alex|31|90\n",
      "\n",
      "2020-01-01|4|Matt|32|76\n",
      "\n",
      "2020-01-01|5|Pat|32|70\n",
      "\n"
     ]
    }
   ],
   "source": [
    "values_to_rm = ['123456', '234567', '345678', \n",
    "                '2020-01-01|7|Barney|32|74',\n",
    "                '2020-01-01|6|Jack|30|68']\n",
    "\n",
    "with open('test-folder-with-csv-files/weights-2020-01-01.txt', 'r') as my_file:\n",
    "    my_file_contents = my_file.readlines()\n",
    "\n",
    "with open('test-folder-with-csv-files/weights-2020-01-01.txt', 'w') as my_file:\n",
    "    for line in my_file_contents:\n",
    "        if line.strip(\"\\n\") not in values_to_rm:\n",
    "            my_file.write(line)\n",
    "            \n",
    "# check it has worked\n",
    "with open('test-folder-with-csv-files/weights-2020-01-01.txt', 'r') as my_file:\n",
    "    for line in my_file:\n",
    "        print(line)"
   ]
  },
  {
   "cell_type": "code",
   "execution_count": 4,
   "id": "mediterranean-medicaid",
   "metadata": {},
   "outputs": [],
   "source": [
    "# import packages\n",
    "\n",
    "import pandas as pd"
   ]
  },
  {
   "cell_type": "markdown",
   "id": "copyrighted-copper",
   "metadata": {},
   "source": [
    "To get help with a function in Python, use `help()`. For example - `help(pd.read_csv)`. Alternatively, use google."
   ]
  },
  {
   "cell_type": "markdown",
   "id": "identified-polls",
   "metadata": {},
   "source": [
    "The first thing I'd want to do is view what is in a folder. So lets figure out how to do that."
   ]
  },
  {
   "cell_type": "code",
   "execution_count": null,
   "id": "after-uncle",
   "metadata": {},
   "outputs": [],
   "source": []
  },
  {
   "cell_type": "markdown",
   "id": "sealed-electronics",
   "metadata": {},
   "source": [
    "Lets open one of the csv files to have a look at it"
   ]
  },
  {
   "cell_type": "code",
   "execution_count": 9,
   "id": "bottom-prague",
   "metadata": {},
   "outputs": [],
   "source": [
    "testcsv = pd.read_csv('test-folder-with-csv-files/Weights 2020-01-01.txt', sep = '|')"
   ]
  },
  {
   "cell_type": "code",
   "execution_count": 10,
   "id": "empty-november",
   "metadata": {},
   "outputs": [
    {
     "data": {
      "text/html": [
       "<div>\n",
       "<style scoped>\n",
       "    .dataframe tbody tr th:only-of-type {\n",
       "        vertical-align: middle;\n",
       "    }\n",
       "\n",
       "    .dataframe tbody tr th {\n",
       "        vertical-align: top;\n",
       "    }\n",
       "\n",
       "    .dataframe thead th {\n",
       "        text-align: right;\n",
       "    }\n",
       "</style>\n",
       "<table border=\"1\" class=\"dataframe\">\n",
       "  <thead>\n",
       "    <tr style=\"text-align: right;\">\n",
       "      <th></th>\n",
       "      <th>Day</th>\n",
       "      <th>PersonID</th>\n",
       "      <th>Name</th>\n",
       "      <th>Age</th>\n",
       "      <th>Weight</th>\n",
       "    </tr>\n",
       "  </thead>\n",
       "  <tbody>\n",
       "    <tr>\n",
       "      <th>0</th>\n",
       "      <td>2020-01-01</td>\n",
       "      <td>1</td>\n",
       "      <td>Tom</td>\n",
       "      <td>32</td>\n",
       "      <td>80</td>\n",
       "    </tr>\n",
       "    <tr>\n",
       "      <th>1</th>\n",
       "      <td>2020-01-01</td>\n",
       "      <td>2</td>\n",
       "      <td>Matt</td>\n",
       "      <td>33</td>\n",
       "      <td>78</td>\n",
       "    </tr>\n",
       "    <tr>\n",
       "      <th>2</th>\n",
       "      <td>2020-01-01</td>\n",
       "      <td>3</td>\n",
       "      <td>Alex</td>\n",
       "      <td>31</td>\n",
       "      <td>90</td>\n",
       "    </tr>\n",
       "    <tr>\n",
       "      <th>3</th>\n",
       "      <td>2020-01-01</td>\n",
       "      <td>4</td>\n",
       "      <td>Matt</td>\n",
       "      <td>32</td>\n",
       "      <td>76</td>\n",
       "    </tr>\n",
       "    <tr>\n",
       "      <th>4</th>\n",
       "      <td>2020-01-01</td>\n",
       "      <td>5</td>\n",
       "      <td>Pat</td>\n",
       "      <td>32</td>\n",
       "      <td>70</td>\n",
       "    </tr>\n",
       "  </tbody>\n",
       "</table>\n",
       "</div>"
      ],
      "text/plain": [
       "          Day  PersonID  Name  Age  Weight\n",
       "0  2020-01-01         1   Tom   32      80\n",
       "1  2020-01-01         2  Matt   33      78\n",
       "2  2020-01-01         3  Alex   31      90\n",
       "3  2020-01-01         4  Matt   32      76\n",
       "4  2020-01-01         5   Pat   32      70"
      ]
     },
     "execution_count": 10,
     "metadata": {},
     "output_type": "execute_result"
    }
   ],
   "source": [
    "testcsv.head()"
   ]
  }
 ],
 "metadata": {
  "kernelspec": {
   "display_name": "Python 3",
   "language": "python",
   "name": "python3"
  },
  "language_info": {
   "codemirror_mode": {
    "name": "ipython",
    "version": 3
   },
   "file_extension": ".py",
   "mimetype": "text/x-python",
   "name": "python",
   "nbconvert_exporter": "python",
   "pygments_lexer": "ipython3",
   "version": "3.7.6"
  }
 },
 "nbformat": 4,
 "nbformat_minor": 5
}
