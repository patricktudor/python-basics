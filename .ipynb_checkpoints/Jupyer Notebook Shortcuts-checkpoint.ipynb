{
 "cells": [
  {
   "cell_type": "markdown",
   "id": "american-addition",
   "metadata": {},
   "source": [
    "# Some useful shortcuts when working in Jupyter notebooks"
   ]
  },
  {
   "cell_type": "markdown",
   "id": "dried-decimal",
   "metadata": {},
   "source": [
    "\n",
    "\n",
    "There are two  modes in Jupyter Notebooks - **command** mode and **edit** mode. In command mode the cell will be outlined in blue. Think of this as the notebook overview mode. In edit mode the cell will be coloured green. This is the mode where you can write code and text."
   ]
  },
  {
   "cell_type": "markdown",
   "id": "stopped-fruit",
   "metadata": {},
   "source": [
    "## Shortcuts that work in both modes\n",
    "\n",
    "* `Shift + Enter` run current cell, select below\n",
    "\n",
    "* `Ctrl + Enter` run selected cells\n",
    "\n",
    "* `Alt + Enter` run current cell, insert below\n",
    "\n",
    "* `Ctrl + S` save and checkpoint"
   ]
  },
  {
   "cell_type": "markdown",
   "id": "stylish-peeing",
   "metadata": {},
   "source": [
    "## Shortcuts that work in command mode (`Esc`)\n",
    "\n",
    "* `Enter` to activate command mode\n",
    "\n",
    "* `H` to show shortcuts\n",
    "\n",
    "* `Up` select cell above\n",
    "\n",
    "* `Down` selectc cell below\n",
    "\n",
    "* `Shift + Up` extend selected cells above\n",
    "\n",
    "* `Shift + Down` extend selected cells below\n",
    "\n",
    "* `Shift + M` merge cells\n",
    "\n",
    "* `A` insert cell above\n",
    "\n",
    "* `B` insert cell below\n",
    "\n",
    "* `X` cut selected cells\n",
    "\n",
    "* `C` copy selected cells\n",
    "\n",
    "* `V` paste cells below\n",
    "\n",
    "* `Shift + V` paste cells above\n",
    "\n",
    "* `D, D` delete selected cells\n",
    "\n",
    "* `Z` undo cell selection\n",
    "\n",
    "* `S` save and checkpoint\n",
    "\n",
    "* `Y` change the cell type to code\n",
    "\n",
    "* `M` change the cell type to markdown\n",
    "\n",
    "* `P` open the command palette\n",
    "\n",
    "* `Shift + Space` scroll notebook up\n",
    "\n",
    "* `Space` scroll notebook down"
   ]
  },
  {
   "cell_type": "markdown",
   "id": "ranging-winning",
   "metadata": {},
   "source": [
    "## Shortcuts that work in edit mode (`Enter`)\n",
    "\n",
    "- `Esc` active command mode\n",
    "\n",
    "- `Tab` code completion or indent\n",
    "\n",
    "- `Shift + Tab` tooltip (not sure what this is yet)\n",
    "\n",
    "- `Ctrl + ]` indent\n",
    "\n",
    "- `Ctrl + [` dedent\n",
    "\n",
    "- `Ctrl + A` select all\n",
    "\n",
    "- `Ctrl + Z` undo\n",
    "\n",
    "- `Ctrl + Shift + Z` or `Ctrl + Y` redo\n",
    "\n",
    "- `Ctrl + Home` go to cell start\n",
    "\n",
    "- `Ctrl + End` go to cell end\n",
    "\n",
    "- `Ctrl + Left` go one word left\n",
    "\n",
    "- `Ctrl + Right` go one word right\n",
    "\n",
    "- `Ctrl + Shift + P` open the command palette\n",
    "\n",
    "- `Down` move cursor down\n",
    "\n",
    "- `Up` move cursor up"
   ]
  },
  {
   "cell_type": "markdown",
   "id": "extreme-conjunction",
   "metadata": {},
   "source": [
    "## Making things look good in markdown\n",
    "\n",
    "* ```# Heading 1``` biggest heading\n",
    "\n",
    "* ```## Heading 2``` fairly big heading\n",
    "\n",
    "* ```### Heading 3``` not so big heading\n",
    "\n",
    "* ```**bold**``` make text **bold**\n",
    "\n",
    "* ```*italics*``` make text *italic*\n",
    "\n",
    "* ```* my point``` or ```- another one of my points``` make bullet points\n",
    "\n",
    "* ```1. item 1``` make numbered points\n",
    "\n",
    "* ``` `code snippet` ``` to put highlighted code in text\n",
    "\n",
    "* ` ```wrapped code``` ` to make a block of code in text\n",
    "\n",
    "* ```[Title of section](#name-of-section)``` to link a section, for example like this - [Shortcuts for both modes](#Shortcuts-that-work-in-both-modes)\n",
    "\n",
    "* ```[text](url)``` to create a hyperlink [like this](https://unsplash.com/photos/ZlFKIG6dApg)\n",
    "\n",
    "* ```![image info](filepath) t\n",
    "\n",
    "*```![image info](./pictures/image.png)\n",
    "\n",
    "\n"
   ]
  },
  {
   "cell_type": "markdown",
   "id": "manufactured-talent",
   "metadata": {},
   "source": [
    "Some horizontal lines can be added using - \n",
    "``` \n",
    "***\n",
    "These pale lines really help to make the reader believe that you know what you're doing\n",
    "***\n",
    "```\n",
    "***\n",
    "See? How impressive is this?\n",
    "***"
   ]
  },
  {
   "cell_type": "markdown",
   "id": "matched-tonight",
   "metadata": {},
   "source": [
    "## LaTeX in markdown\n",
    "\n",
    "* `$1+1=2$` write some maths $1+1=2$\n",
    "\n",
    "* `$e^{i \\pi} + 1 = 0 $` write some harder maths $e^{i \\pi} + 1 = 0 $\n",
    "\n",
    "* `$\\color{red}{\\text{This text is red!}}$` to color $\\color{red}{\\text{text}}$ \n",
    "\n",
    "For centered maths, do this\n",
    "```\n",
    "\\begin{equation}\n",
    "\\frac{a}{b}\\times\\frac{c}{d}=\\frac{ac}{bd}\n",
    "\\end{equation}\n",
    "```\n",
    "\\begin{equation}\n",
    "\\frac{a}{b}\\times\\frac{c}{d}=\\frac{ac}{bd}\n",
    "\\end{equation}\n",
    "\n",
    "and so on."
   ]
  },
  {
   "cell_type": "markdown",
   "id": "premium-level",
   "metadata": {},
   "source": [
    "## Acknowledgements\n",
    "\n",
    "A lot of the info for this notebook was followed (copied) from \n",
    "\n",
    "https://towardsdatascience.com/jypyter-notebook-shortcuts-bf0101a98330#:~:text=Shortcuts%20in%20both%20modes%3A,the%20current%20cell%2C%20insert%20below\n",
    "\n",
    "https://www.earthdatascience.org/courses/intro-to-earth-data-science/file-formats/use-text-files/format-text-with-markdown-jupyter-notebook/"
   ]
  }
 ],
 "metadata": {
  "kernelspec": {
   "display_name": "Python 3",
   "language": "python",
   "name": "python3"
  },
  "language_info": {
   "codemirror_mode": {
    "name": "ipython",
    "version": 3
   },
   "file_extension": ".py",
   "mimetype": "text/x-python",
   "name": "python",
   "nbconvert_exporter": "python",
   "pygments_lexer": "ipython3",
   "version": "3.7.6"
  }
 },
 "nbformat": 4,
 "nbformat_minor": 5
}
