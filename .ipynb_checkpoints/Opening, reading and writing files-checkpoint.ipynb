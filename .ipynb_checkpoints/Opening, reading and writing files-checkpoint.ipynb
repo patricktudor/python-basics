{
 "cells": [
  {
   "cell_type": "markdown",
   "id": "moderate-salvation",
   "metadata": {},
   "source": [
    "# Opening, reading and writing files\n",
    "\n",
    "The aim of this notebook is to describe how to open, read and write files in python using built in functions and alternatively pandas.\n",
    "\n",
    "I have created a very small example folder to practice with here - `GitHub\\python-basics\\test-folder-with-csv-files\\`\n",
    "\n",
    "There's some nice reading [here](https://dbader.org/blog/python-file-io) about the fundamentals of working with files in Python which I'll loosely follow along. First up - file types\n",
    "\n",
    "To get help with a function in Python, use `help()`. For example - `help(pd.read_csv)`. Alternatively, use google.\n",
    "\n",
    "## Terms / abbreviations to know\n",
    "\n",
    "- I/O - input/output\n",
    "- `\\n` - new line\n",
    "\n",
    "## Binary vs Text\n",
    "\n",
    "There are two types of files that python can handle - binary and text.\n",
    "\n",
    "Examples of **binary** files\n",
    "- Image files (.jpg, .png, .gif, etc)\n",
    "- Database files (.mdb, .frm, .sqlite, etc)\n",
    "- Documents (.doc, .xlsx, .pdf, etc)\n",
    "\n",
    "These files require specific software and handling to open.\n",
    "\n",
    "**Text** files have no specific coding and can be opened by a standard text editor. There are rules for text files\n",
    "- A text file has to be readable as is\n",
    "- data is organised in lines - each line is a distinct element, e.g. line of instruction, command, etc\n",
    "- they have an unseen character at the end of each line to let the editor know there should be a new line\n",
    "\n",
    "## Built in Python functions\n",
    "\n",
    "The first function to know is `open()`"
   ]
  },
  {
   "cell_type": "code",
   "execution_count": 11,
   "id": "dimensional-crime",
   "metadata": {},
   "outputs": [],
   "source": [
    "my_first_file = open(file = 'test-folder-with-csv-files/weights-2020-01-01.txt', \n",
    "                     mode = 'r+')"
   ]
  },
  {
   "cell_type": "markdown",
   "id": "warming-fundamental",
   "metadata": {},
   "source": [
    "The `mode` parameter is to tell python what to do with the file\n",
    "- **'w'** - write mode\n",
    "- **'r'** - read mode\n",
    "- **'a'** - append mode\n",
    "- **'r+'** - read/write mode\n",
    "- **'a+'** - append and read mode\n",
    "\n",
    "If opening a binary file then these modes have a **b** at the end, like \n",
    "**'wb'**, **'r+b'**, etc.\n",
    "\n",
    "To close a file, add `close()` to the file object -"
   ]
  },
  {
   "cell_type": "code",
   "execution_count": 4,
   "id": "greenhouse-battery",
   "metadata": {},
   "outputs": [],
   "source": [
    "my_first_file.close()"
   ]
  },
  {
   "cell_type": "markdown",
   "id": "scheduled-render",
   "metadata": {},
   "source": [
    "The best way to open and close files is to use `with`. It closes the file after the nested code block"
   ]
  },
  {
   "cell_type": "code",
   "execution_count": 12,
   "id": "macro-hopkins",
   "metadata": {},
   "outputs": [],
   "source": [
    "with open('test-folder-with-csv-files/weights-2020-01-01.txt', 'r+') as my_file:\n",
    "    my_file.read()"
   ]
  },
  {
   "cell_type": "markdown",
   "id": "freelance-weapon",
   "metadata": {},
   "source": [
    "## Reading data from a file\n",
    "\n",
    "By default, `read(size)` will read the entire file and print it out as a string (text) or as byte objects (binary). If the file size is larger than available memory, it won't be able to read the whole file at once, therefore the size parameter can be used to break the file up into chunks that available memory can handle. **size** says how many bytes into the file to return."
   ]
  },
  {
   "cell_type": "code",
   "execution_count": 13,
   "id": "productive-recall",
   "metadata": {},
   "outputs": [
    {
     "name": "stdout",
     "output_type": "stream",
     "text": [
      "The file name:  <_io.TextIOWrapper name='test-folder-with-csv-files/weights-2020-01-01.txt' mode='r+' encoding='cp1252'>\n",
      "Day|PersonID|Name|Age|Weight\n",
      "2020-01-01|1|Tom|32|80\n",
      "2020-01-01|2|Matt|33|78\n",
      "2020-01-01|3|Alex|31|90\n",
      "2020-01-01|4|Matt|32|76\n",
      "2020-01-01|5|Pat|32|70\n"
     ]
    }
   ],
   "source": [
    "with open('test-folder-with-csv-files/weights-2020-01-01.txt', 'r+') as my_file:\n",
    "    print(\"The file name: \", my_file)\n",
    "    line = my_file.read()\n",
    "    print(line)"
   ]
  },
  {
   "cell_type": "code",
   "execution_count": 16,
   "id": "urban-incidence",
   "metadata": {},
   "outputs": [
    {
     "name": "stdout",
     "output_type": "stream",
     "text": [
      "The file name:  <_io.TextIOWrapper name='test-folder-with-csv-files/weights-2020-01-01.txt' mode='r+' encoding='cp1252'>\n",
      "Day|Pers\n"
     ]
    }
   ],
   "source": [
    "with open('test-folder-with-csv-files/weights-2020-01-01.txt', 'r+') as my_file:\n",
    "    print(\"The file name: \", my_file)\n",
    "    line = my_file.read(8) # limit size of what is read\n",
    "    print(line)"
   ]
  },
  {
   "cell_type": "markdown",
   "id": "according-wilderness",
   "metadata": {},
   "source": [
    "## Read data line-by-line\n",
    "\n",
    "Using `readline(size)` by default reads the first line of a file."
   ]
  },
  {
   "cell_type": "code",
   "execution_count": 24,
   "id": "resident-medicine",
   "metadata": {},
   "outputs": [
    {
     "name": "stdout",
     "output_type": "stream",
     "text": [
      "The file name:  <_io.TextIOWrapper name='test-folder-with-csv-files/weights-2020-01-01.txt' mode='r+' encoding='cp1252'>\n",
      "Day|PersonID|Name|Age|Weight\n",
      "\n"
     ]
    }
   ],
   "source": [
    "with open('test-folder-with-csv-files/weights-2020-01-01.txt', 'r+') as my_file:\n",
    "    print(\"The file name: \", my_file)\n",
    "    print(my_file.readline())\n",
    "    # print(my_file.readline()) # use multiple times to call more lines"
   ]
  },
  {
   "cell_type": "markdown",
   "id": "needed-integrity",
   "metadata": {},
   "source": [
    "`readlines()` returns all lines as a list. This doesn't really work with binary files as it doesn't have a defined line end."
   ]
  },
  {
   "cell_type": "code",
   "execution_count": 26,
   "id": "noticed-prize",
   "metadata": {},
   "outputs": [
    {
     "name": "stdout",
     "output_type": "stream",
     "text": [
      "['Day|PersonID|Name|Age|Weight\\n', '2020-01-01|1|Tom|32|80\\n', '2020-01-01|2|Matt|33|78\\n', '2020-01-01|3|Alex|31|90\\n', '2020-01-01|4|Matt|32|76\\n', '2020-01-01|5|Pat|32|70']\n"
     ]
    }
   ],
   "source": [
    "with open('test-folder-with-csv-files/weights-2020-01-01.txt', 'r+') as my_file:\n",
    "    print(my_file.readlines())"
   ]
  },
  {
   "cell_type": "markdown",
   "id": "owned-process",
   "metadata": {},
   "source": [
    "## Processing a text file line-by-line\n",
    "\n",
    "The easiest way is to use a loop. It is memory-efficient as it reads and processes each line individually."
   ]
  },
  {
   "cell_type": "code",
   "execution_count": 1,
   "id": "organic-winner",
   "metadata": {},
   "outputs": [
    {
     "name": "stdout",
     "output_type": "stream",
     "text": [
      "Day|PersonID|Name|Age|Weight\n",
      "\n",
      "2020-01-01|1|Tom|32|80\n",
      "\n",
      "2020-01-01|2|Matt|33|78\n",
      "\n",
      "2020-01-01|3|Alex|31|90\n",
      "\n",
      "2020-01-01|4|Matt|32|76\n",
      "\n",
      "2020-01-01|5|Pat|32|70\n",
      "\n"
     ]
    }
   ],
   "source": [
    "with open('test-folder-with-csv-files/weights-2020-01-01.txt', 'r+') as my_file:\n",
    "    for line in my_file: # for each element in the object\n",
    "        print(line)"
   ]
  },
  {
   "cell_type": "markdown",
   "id": "international-process",
   "metadata": {},
   "source": [
    "## Writing to a file\n",
    "\n",
    "The method to write to a file is `write(data)`. For example -\n",
    "\n",
    "*Note - don't run this unnecessarily!*"
   ]
  },
  {
   "cell_type": "code",
   "execution_count": 33,
   "id": "modified-borough",
   "metadata": {},
   "outputs": [],
   "source": [
    "with open('test-folder-with-csv-files/weights-2020-01-01.txt', 'a+') as my_file:\n",
    "    my_file.write('2020-01-01|6|Jack|30|68\\n') # \\n - new line"
   ]
  },
  {
   "cell_type": "markdown",
   "id": "narrative-chemistry",
   "metadata": {},
   "source": [
    "Anything to be written that isn't a string needs to be cast or converted to strings. Example - "
   ]
  },
  {
   "cell_type": "code",
   "execution_count": 37,
   "id": "musical-craft",
   "metadata": {},
   "outputs": [],
   "source": [
    "# values = [123456, 234567, 345678]\n",
    "\n",
    "# with open('test-folder-with-csv-files/weights-2020-01-01.txt', 'a+') as my_file:\n",
    "#     for value in values:\n",
    "#         str_value = str(value)\n",
    "#         my_file.write(str_value)\n",
    "#         my_file.write('\\n')"
   ]
  },
  {
   "cell_type": "markdown",
   "id": "rotary-payment",
   "metadata": {},
   "source": [
    "## Editing an existing text file\n",
    "\n",
    "You can't just use `w+` to edit as it will completey overwrite the file. Also, `a+` will always insert data at the end of the file. A way to do it is to extract the file into and array and then insert new data. Then it can be joined back and write it to file.\n",
    "\n",
    "For `list.insert(i, x)`, `i` is an integer than indicates the cell number. Then the data `x` is placed before the cell in the list indicated by `i`.\n",
    "\n",
    "So, for example -"
   ]
  },
  {
   "cell_type": "code",
   "execution_count": 38,
   "id": "prospective-hotel",
   "metadata": {},
   "outputs": [],
   "source": [
    "# open as read-only\n",
    "with open('test-folder-with-csv-files/weights-2020-01-01.txt', 'r') as my_file:\n",
    "    my_file_contents = my_file.readlines()\n",
    "    \n",
    "my_file_contents.insert(2, '2020-01-01|7|Barney|32|74\\n')\n",
    "\n",
    "# re-open in write-only mode to overwrite old file\n",
    "with open('test-folder-with-csv-files/weights-2020-01-01.txt', 'w') as my_file:\n",
    "    # join items together with nothing between them\n",
    "    my_fileContents = ''.join(my_file_contents) \n",
    "    my_file.write(my_fileContents)"
   ]
  },
  {
   "cell_type": "markdown",
   "id": "constant-birthday",
   "metadata": {},
   "source": [
    "## Remove a line from a file\n",
    "\n",
    "Found this on stack overflow [here](https://stackoverflow.com/questions/4710067/how-to-delete-a-specific-line-in-a-file) so adapted it to remove the stuff we've just written into the original file -"
   ]
  },
  {
   "cell_type": "code",
   "execution_count": 49,
   "id": "dimensional-governor",
   "metadata": {},
   "outputs": [
    {
     "name": "stdout",
     "output_type": "stream",
     "text": [
      "Day|PersonID|Name|Age|Weight\n",
      "\n",
      "2020-01-01|1|Tom|32|80\n",
      "\n",
      "2020-01-01|2|Matt|33|78\n",
      "\n",
      "2020-01-01|3|Alex|31|90\n",
      "\n",
      "2020-01-01|4|Matt|32|76\n",
      "\n",
      "2020-01-01|5|Pat|32|70\n",
      "\n"
     ]
    }
   ],
   "source": [
    "values_to_rm = ['123456', '234567', '345678', \n",
    "                '2020-01-01|7|Barney|32|74',\n",
    "                '2020-01-01|6|Jack|30|68']\n",
    "\n",
    "with open('test-folder-with-csv-files/weights-2020-01-01.txt', 'r') as my_file:\n",
    "    my_file_contents = my_file.readlines()\n",
    "\n",
    "with open('test-folder-with-csv-files/weights-2020-01-01.txt', 'w') as my_file:\n",
    "    for line in my_file_contents:\n",
    "        if line.strip(\"\\n\") not in values_to_rm:\n",
    "            my_file.write(line)\n",
    "            \n",
    "# check it has worked\n",
    "with open('test-folder-with-csv-files/weights-2020-01-01.txt', 'r') as my_file:\n",
    "    for line in my_file:\n",
    "        print(line)"
   ]
  },
  {
   "cell_type": "markdown",
   "id": "intellectual-decimal",
   "metadata": {},
   "source": [
    "## Handling text files with delimiters\n",
    "\n",
    "The `csv` library allows us to read and write csv files. I'll follow the work [here](https://realpython.com/python-csv/) for this part. The object `reader` is the key part. Each row returned by the reader is a list of string elements containing the data after removing the delimiters."
   ]
  },
  {
   "cell_type": "code",
   "execution_count": 3,
   "id": "pleased-banks",
   "metadata": {},
   "outputs": [],
   "source": [
    "# get the library\n",
    "import csv"
   ]
  },
  {
   "cell_type": "code",
   "execution_count": 10,
   "id": "preliminary-raleigh",
   "metadata": {},
   "outputs": [
    {
     "name": "stdout",
     "output_type": "stream",
     "text": [
      "['Day', 'PersonID', 'Name', 'Age', 'Weight']\n",
      "['2020-01-01', '1', 'Tom', '32', '80']\n",
      "['2020-01-01', '2', 'Matt', '33', '78']\n",
      "['2020-01-01', '3', 'Alex', '31', '90']\n",
      "['2020-01-01', '4', 'Matt', '32', '76']\n",
      "['2020-01-01', '5', 'Pat', '32', '70']\n"
     ]
    }
   ],
   "source": [
    "with open('test-folder-with-csv-files/weights-2020-01-01.txt') as txt_file:\n",
    "    csv_reader = csv.reader(txt_file, delimiter = '|') # bar delimited in our case\n",
    "    for row in csv_reader:\n",
    "        print(row)"
   ]
  },
  {
   "cell_type": "markdown",
   "id": "varying-attention",
   "metadata": {},
   "source": [
    "We can use the elements how we want. For example, we can expand on the previous code with -"
   ]
  },
  {
   "cell_type": "code",
   "execution_count": 11,
   "id": "nearby-armenia",
   "metadata": {},
   "outputs": [
    {
     "name": "stdout",
     "output_type": "stream",
     "text": [
      "The column names are Day, PersonID, Name, Age, Weight\n",
      "\tTom, aged 32, weighed 80kg on 2020-01-01.\n",
      "\tMatt, aged 33, weighed 78kg on 2020-01-01.\n",
      "\tAlex, aged 31, weighed 90kg on 2020-01-01.\n",
      "\tMatt, aged 32, weighed 76kg on 2020-01-01.\n",
      "\tPat, aged 32, weighed 70kg on 2020-01-01.\n",
      "Processed 6 lines.\n"
     ]
    }
   ],
   "source": [
    "with open('test-folder-with-csv-files/weights-2020-01-01.txt') as txt_file:\n",
    "    csv_reader = csv.reader(txt_file, delimiter = '|')\n",
    "    line_count = 0\n",
    "    for row in csv_reader:\n",
    "        if line_count == 0:\n",
    "            print(f'The column names are {\", \". join(row)}') # see note on f below\n",
    "            line_count += 1 # += adds amount onto original value\n",
    "        else:\n",
    "            print(f'\\t{row[2]}, aged {row[3]}, weighed {row[4]}kg on {row[0]}.')\n",
    "            line_count += 1\n",
    "    print(f'Processed {line_count} lines.')"
   ]
  },
  {
   "cell_type": "markdown",
   "id": "radical-proof",
   "metadata": {},
   "source": [
    "The `f` in `print(f'')` is a [formatted string literal](https://docs.python.org/3.6/reference/lexical_analysis.html#formatted-string-literals), or *f-string* for short. They allow for replacement fields, denoted by `{}` brackets."
   ]
  },
  {
   "cell_type": "markdown",
   "id": "banned-florist",
   "metadata": {},
   "source": [
    "We can also read a csv file into a dictionary if we like."
   ]
  },
  {
   "cell_type": "code",
   "execution_count": 15,
   "id": "specific-means",
   "metadata": {},
   "outputs": [
    {
     "name": "stdout",
     "output_type": "stream",
     "text": [
      "OrderedDict([('Day', '2020-01-01'), ('PersonID', '1'), ('Name', 'Tom'), ('Age', '32'), ('Weight', '80')])\n",
      "OrderedDict([('Day', '2020-01-01'), ('PersonID', '2'), ('Name', 'Matt'), ('Age', '33'), ('Weight', '78')])\n",
      "OrderedDict([('Day', '2020-01-01'), ('PersonID', '3'), ('Name', 'Alex'), ('Age', '31'), ('Weight', '90')])\n",
      "OrderedDict([('Day', '2020-01-01'), ('PersonID', '4'), ('Name', 'Matt'), ('Age', '32'), ('Weight', '76')])\n",
      "OrderedDict([('Day', '2020-01-01'), ('PersonID', '5'), ('Name', 'Pat'), ('Age', '32'), ('Weight', '70')])\n"
     ]
    }
   ],
   "source": [
    "with open('test-folder-with-csv-files/weights-2020-01-01.txt', mode = 'r') as txt_file:\n",
    "    csv_reader = csv.DictReader(txt_file, delimiter = '|')\n",
    "    for row in csv_reader:\n",
    "        print(row)"
   ]
  },
  {
   "cell_type": "markdown",
   "id": "scientific-booking",
   "metadata": {},
   "source": [
    "And we can replicate the same report as above by doing the following:"
   ]
  },
  {
   "cell_type": "code",
   "execution_count": 18,
   "id": "familiar-tonight",
   "metadata": {},
   "outputs": [
    {
     "name": "stdout",
     "output_type": "stream",
     "text": [
      "The column names are Day, PersonID, Name, Age, Weight\n",
      "\tTom, aged 32, weighed 80kg on 2020-01-01.\n",
      "\tMatt, aged 33, weighed 78kg on 2020-01-01.\n",
      "\tAlex, aged 31, weighed 90kg on 2020-01-01.\n",
      "\tMatt, aged 32, weighed 76kg on 2020-01-01.\n",
      "\tPat, aged 32, weighed 70kg on 2020-01-01.\n",
      "Processed 6 lines.\n"
     ]
    }
   ],
   "source": [
    "with open('test-folder-with-csv-files/weights-2020-01-01.txt', mode = 'r') as txt_file:\n",
    "    csv_reader = csv.DictReader(txt_file, delimiter = '|')\n",
    "    line_count = 0\n",
    "    for row in csv_reader:\n",
    "        if line_count == 0:\n",
    "            print(f'The column names are {\", \". join(row)}') \n",
    "            line_count += 1\n",
    "        print(f'\\t{row[\"Name\"]}, aged {row[\"Age\"]}, weighed {row[\"Weight\"]}kg on {row[\"Day\"]}.')\n",
    "        line_count += 1\n",
    "    print(f'Processed {line_count} lines.')"
   ]
  },
  {
   "cell_type": "markdown",
   "id": "grateful-crystal",
   "metadata": {},
   "source": [
    "## Writing csv files with `csv`\n",
    "\n",
    "We can use the `writer` object and `.writerow()` to write new data to a file. Remember than the mode we select is important. Selecting `w` with overwrite everything currently in the file, so use `a+` to append rows instead."
   ]
  },
  {
   "cell_type": "code",
   "execution_count": 29,
   "id": "separate-heart",
   "metadata": {},
   "outputs": [],
   "source": [
    "with open('test-folder-with-csv-files/weights-2020-01-01.txt', mode = 'a+', newline = '') as weight_file:\n",
    "    # newline = '' argument is required to stop csv.writer adding an extra line when .writerow() is used\n",
    "    weight_writer = csv.writer(weight_file, delimiter = '|', quotechar = '\"', quoting = csv.QUOTE_MINIMAL)\n",
    "    \n",
    "    weight_writer.writerow(['2020-01-01', '6', 'Simon', '32', '73'])"
   ]
  },
  {
   "cell_type": "code",
   "execution_count": 38,
   "id": "fifty-gauge",
   "metadata": {},
   "outputs": [
    {
     "name": "stdout",
     "output_type": "stream",
     "text": [
      "Day|PersonID|Name|Age|Weight\n",
      "2020-01-01|1|Tom|32|80\n",
      "2020-01-01|2|Matt|33|78\n",
      "2020-01-01|3|Alex|31|90\n",
      "2020-01-01|4|Matt|32|76\n",
      "2020-01-01|5|Pat|32|70\n",
      "\n"
     ]
    }
   ],
   "source": [
    "with open('test-folder-with-csv-files/weights-2020-01-01.txt', 'r+') as my_file:\n",
    "    line = my_file.read()\n",
    "    print(line)"
   ]
  },
  {
   "cell_type": "markdown",
   "id": "subtle-positive",
   "metadata": {},
   "source": [
    "To do the same with dictionaries we use `csv.DictWriter` to do the same. In this example I'll use `mode = 'w'` to show how the whole file can be written -"
   ]
  },
  {
   "cell_type": "code",
   "execution_count": 37,
   "id": "structural-detail",
   "metadata": {},
   "outputs": [],
   "source": [
    "with open('test-folder-with-csv-files/weights-2020-01-01.txt', mode = 'w', newline = '') as weight_file:\n",
    "    fields = ['Day', 'PersonID', 'Name', 'Age', 'Weight'] # required when writing a dictionary\n",
    "    writer = csv.DictWriter(weight_file, fieldnames = fields, delimiter = '|')\n",
    "    \n",
    "    writer.writeheader()\n",
    "    writer.writerow({'Day': '2020-01-01', 'PersonID': '1', 'Name': 'Tom', 'Age': '32', 'Weight': '80'})\n",
    "    writer.writerow({'Day': '2020-01-01', 'PersonID': '2', 'Name': 'Matt', 'Age': '33', 'Weight': '78'})\n",
    "    writer.writerow({'Day': '2020-01-01', 'PersonID': '3', 'Name': 'Alex', 'Age': '31', 'Weight': '90'})\n",
    "    writer.writerow({'Day': '2020-01-01', 'PersonID': '4', 'Name': 'Matt', 'Age': '32', 'Weight': '76'})\n",
    "    writer.writerow({'Day': '2020-01-01', 'PersonID': '5', 'Name': 'Pat', 'Age': '32', 'Weight': '70'})"
   ]
  },
  {
   "cell_type": "markdown",
   "id": "super-passenger",
   "metadata": {},
   "source": [
    "## Using Pandas\n",
    "\n",
    "The pandas library makes working with csv files very easy."
   ]
  },
  {
   "cell_type": "code",
   "execution_count": 40,
   "id": "mediterranean-medicaid",
   "metadata": {},
   "outputs": [],
   "source": [
    "# import packages\n",
    "\n",
    "import pandas as pd"
   ]
  },
  {
   "cell_type": "code",
   "execution_count": 42,
   "id": "bottom-prague",
   "metadata": {},
   "outputs": [
    {
     "name": "stdout",
     "output_type": "stream",
     "text": [
      "          Day  PersonID  Name  Age  Weight\n",
      "0  2020-01-01         1   Tom   32      80\n",
      "1  2020-01-01         2  Matt   33      78\n",
      "2  2020-01-01         3  Alex   31      90\n",
      "3  2020-01-01         4  Matt   32      76\n",
      "4  2020-01-01         5   Pat   32      70\n"
     ]
    }
   ],
   "source": [
    "testcsv = pd.read_csv('test-folder-with-csv-files/Weights-2020-01-01.txt', sep = '|')\n",
    "print(testcsv)"
   ]
  },
  {
   "cell_type": "markdown",
   "id": "faced-purpose",
   "metadata": {},
   "source": [
    "Pandas recognised the first row as a header column. Pandas using zero-based integer indices in the DataFrame because we haven't told it what the index should be. Also, columns like Day are currently in string format. These points can all be resolved.\n",
    "\n",
    "`index_col` can be used to specify the column to index.\n",
    "\n",
    "`parse_dates` forces pandas to read specific columns as dates."
   ]
  },
  {
   "cell_type": "code",
   "execution_count": 46,
   "id": "generic-recipient",
   "metadata": {},
   "outputs": [
    {
     "name": "stdout",
     "output_type": "stream",
     "text": [
      "                Day  Name  Age  Weight\n",
      "PersonID                              \n",
      "1        2020-01-01   Tom   32      80\n",
      "2        2020-01-01  Matt   33      78\n",
      "3        2020-01-01  Alex   31      90\n",
      "4        2020-01-01  Matt   32      76\n",
      "5        2020-01-01   Pat   32      70\n"
     ]
    }
   ],
   "source": [
    "testcsv = pd.read_csv('test-folder-with-csv-files/Weights-2020-01-01.txt', \n",
    "                      sep = '|', \n",
    "                      index_col = 'PersonID', \n",
    "                      parse_dates = ['Day'])\n",
    "print(testcsv)"
   ]
  },
  {
   "cell_type": "markdown",
   "id": "funky-cookbook",
   "metadata": {},
   "source": [
    "Column headers can either be overwritten or added if they don't exist. The parameter `header = 0` needs to be used to ignore the existing column names. The new column names will need to be used in any other parameters."
   ]
  },
  {
   "cell_type": "code",
   "execution_count": 47,
   "id": "alleged-lindsay",
   "metadata": {},
   "outputs": [
    {
     "name": "stdout",
     "output_type": "stream",
     "text": [
      "               Date FirstName  Age  Weight\n",
      "PersonID                                  \n",
      "1        2020-01-01       Tom   32      80\n",
      "2        2020-01-01      Matt   33      78\n",
      "3        2020-01-01      Alex   31      90\n",
      "4        2020-01-01      Matt   32      76\n",
      "5        2020-01-01       Pat   32      70\n"
     ]
    }
   ],
   "source": [
    "testcsv = pd.read_csv('test-folder-with-csv-files/Weights-2020-01-01.txt', \n",
    "                      sep = '|', \n",
    "                      index_col = 'PersonID', \n",
    "                      parse_dates = ['Date'],\n",
    "                      header = 0,\n",
    "                      names = ['Date', 'PersonID', 'FirstName', 'Age', 'Weight'])\n",
    "print(testcsv)"
   ]
  },
  {
   "cell_type": "markdown",
   "id": "fitted-fight",
   "metadata": {},
   "source": [
    "## Writing files with pandas\n",
    "It's simple to write a dataframe to a csv file using `to_csv()`."
   ]
  },
  {
   "cell_type": "code",
   "execution_count": 49,
   "id": "subtle-argentina",
   "metadata": {},
   "outputs": [],
   "source": [
    "testcsv.to_csv('test-folder-with-csv-files/pandascsvfilewrite.csv')"
   ]
  },
  {
   "cell_type": "markdown",
   "id": "medium-kennedy",
   "metadata": {},
   "source": [
    "# Deleting files\n",
    "\n",
    "Finally for this notebook, we'll review how to delete files. We can use an `if` statement to check the file exists first to avoid getting any errors. I used [this work](https://www.w3schools.com/python/python_file_remove.asp) for guidance with this bit."
   ]
  },
  {
   "cell_type": "code",
   "execution_count": 3,
   "id": "antique-capital",
   "metadata": {},
   "outputs": [
    {
     "name": "stdout",
     "output_type": "stream",
     "text": [
      "Nope! This file doesn't exist!\n"
     ]
    }
   ],
   "source": [
    "import os\n",
    "\n",
    "# check if the file exists\n",
    "if os.path.exists('test-folder-with-csv-files/pandascsvfilewrite.csv'):\n",
    "    # delete the file if so -\n",
    "    os.remove('test-folder-with-csv-files/pandascsvfilewrite.csv')\n",
    "else:\n",
    "    # return some really helpful text\n",
    "    print(\"Nope! This file doesn't exist!\")"
   ]
  }
 ],
 "metadata": {
  "kernelspec": {
   "display_name": "Python 3",
   "language": "python",
   "name": "python3"
  },
  "language_info": {
   "codemirror_mode": {
    "name": "ipython",
    "version": 3
   },
   "file_extension": ".py",
   "mimetype": "text/x-python",
   "name": "python",
   "nbconvert_exporter": "python",
   "pygments_lexer": "ipython3",
   "version": "3.7.6"
  }
 },
 "nbformat": 4,
 "nbformat_minor": 5
}
