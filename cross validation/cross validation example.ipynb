{
 "metadata": {
  "language_info": {
   "codemirror_mode": {
    "name": "ipython",
    "version": 3
   },
   "file_extension": ".py",
   "mimetype": "text/x-python",
   "name": "python",
   "nbconvert_exporter": "python",
   "pygments_lexer": "ipython3",
   "version": "3.7.6"
  },
  "orig_nbformat": 2,
  "kernelspec": {
   "name": "python376jvsc74a57bd0a52aec97dc5fdc943310bda3429dc8e9f9521fc74ec7239c53840c0d02b56a20",
   "display_name": "Python 3.7.6 64-bit ('ml': conda)"
  }
 },
 "nbformat": 4,
 "nbformat_minor": 2,
 "cells": [
  {
   "source": [
    "# Example of using cross validation"
   ],
   "cell_type": "markdown",
   "metadata": {}
  },
  {
   "cell_type": "code",
   "execution_count": 2,
   "metadata": {},
   "outputs": [],
   "source": [
    "# packages\n",
    "import pandas as pd"
   ]
  },
  {
   "cell_type": "code",
   "execution_count": 16,
   "metadata": {},
   "outputs": [],
   "source": [
    "# get data about red wine\n",
    "df = pd.read_csv(\"../../data/winequality-red.csv\")"
   ]
  },
  {
   "cell_type": "code",
   "execution_count": 19,
   "metadata": {},
   "outputs": [],
   "source": [
    "# k-folds\n",
    "\n",
    "from sklearn import model_selection\n",
    "\n",
    "# new column\n",
    "df[\"kfold\"] = -1\n",
    "\n",
    "# randomise the rows\n",
    "df = df.sample(frac=1).reset_index(drop=True)\n",
    "\n",
    "# initiate kfold class from model_selection module\n",
    "kf = model_selection.KFold(n_splits=5)\n",
    "\n",
    "# populate new column\n",
    "for fold, (trn_, val_) in enumerate(kf.split(X=df)):\n",
    "    df.loc[val_, 'kfold'] = fold"
   ]
  },
  {
   "cell_type": "code",
   "execution_count": 20,
   "metadata": {},
   "outputs": [
    {
     "output_type": "execute_result",
     "data": {
      "text/plain": [
       "   fixed acidity  volatile acidity  citric acid  residual sugar  chlorides  \\\n",
       "0            7.0             0.655         0.16             2.1      0.074   \n",
       "1            7.8             0.500         0.17             1.6      0.082   \n",
       "2           10.7             0.430         0.39             2.2      0.106   \n",
       "3            8.9             0.745         0.18             2.5      0.077   \n",
       "4            5.1             0.585         0.00             1.7      0.044   \n",
       "\n",
       "   free sulfur dioxide  total sulfur dioxide  density    pH  sulphates  \\\n",
       "0                  8.0                  25.0  0.99606  3.37       0.55   \n",
       "1                 21.0                 102.0  0.99600  3.39       0.48   \n",
       "2                  8.0                  32.0  0.99860  2.89       0.50   \n",
       "3                 15.0                  48.0  0.99739  3.20       0.47   \n",
       "4                 14.0                  86.0  0.99264  3.56       0.94   \n",
       "\n",
       "   alcohol  quality  kfold  \n",
       "0      9.7        5      0  \n",
       "1      9.5        5      0  \n",
       "2      9.6        5      0  \n",
       "3      9.7        6      0  \n",
       "4     12.9        7      0  "
      ],
      "text/html": "<div>\n<style scoped>\n    .dataframe tbody tr th:only-of-type {\n        vertical-align: middle;\n    }\n\n    .dataframe tbody tr th {\n        vertical-align: top;\n    }\n\n    .dataframe thead th {\n        text-align: right;\n    }\n</style>\n<table border=\"1\" class=\"dataframe\">\n  <thead>\n    <tr style=\"text-align: right;\">\n      <th></th>\n      <th>fixed acidity</th>\n      <th>volatile acidity</th>\n      <th>citric acid</th>\n      <th>residual sugar</th>\n      <th>chlorides</th>\n      <th>free sulfur dioxide</th>\n      <th>total sulfur dioxide</th>\n      <th>density</th>\n      <th>pH</th>\n      <th>sulphates</th>\n      <th>alcohol</th>\n      <th>quality</th>\n      <th>kfold</th>\n    </tr>\n  </thead>\n  <tbody>\n    <tr>\n      <th>0</th>\n      <td>7.0</td>\n      <td>0.655</td>\n      <td>0.16</td>\n      <td>2.1</td>\n      <td>0.074</td>\n      <td>8.0</td>\n      <td>25.0</td>\n      <td>0.99606</td>\n      <td>3.37</td>\n      <td>0.55</td>\n      <td>9.7</td>\n      <td>5</td>\n      <td>0</td>\n    </tr>\n    <tr>\n      <th>1</th>\n      <td>7.8</td>\n      <td>0.500</td>\n      <td>0.17</td>\n      <td>1.6</td>\n      <td>0.082</td>\n      <td>21.0</td>\n      <td>102.0</td>\n      <td>0.99600</td>\n      <td>3.39</td>\n      <td>0.48</td>\n      <td>9.5</td>\n      <td>5</td>\n      <td>0</td>\n    </tr>\n    <tr>\n      <th>2</th>\n      <td>10.7</td>\n      <td>0.430</td>\n      <td>0.39</td>\n      <td>2.2</td>\n      <td>0.106</td>\n      <td>8.0</td>\n      <td>32.0</td>\n      <td>0.99860</td>\n      <td>2.89</td>\n      <td>0.50</td>\n      <td>9.6</td>\n      <td>5</td>\n      <td>0</td>\n    </tr>\n    <tr>\n      <th>3</th>\n      <td>8.9</td>\n      <td>0.745</td>\n      <td>0.18</td>\n      <td>2.5</td>\n      <td>0.077</td>\n      <td>15.0</td>\n      <td>48.0</td>\n      <td>0.99739</td>\n      <td>3.20</td>\n      <td>0.47</td>\n      <td>9.7</td>\n      <td>6</td>\n      <td>0</td>\n    </tr>\n    <tr>\n      <th>4</th>\n      <td>5.1</td>\n      <td>0.585</td>\n      <td>0.00</td>\n      <td>1.7</td>\n      <td>0.044</td>\n      <td>14.0</td>\n      <td>86.0</td>\n      <td>0.99264</td>\n      <td>3.56</td>\n      <td>0.94</td>\n      <td>12.9</td>\n      <td>7</td>\n      <td>0</td>\n    </tr>\n  </tbody>\n</table>\n</div>"
     },
     "metadata": {},
     "execution_count": 20
    }
   ],
   "source": [
    "df.head()"
   ]
  },
  {
   "cell_type": "code",
   "execution_count": 21,
   "metadata": {},
   "outputs": [
    {
     "output_type": "execute_result",
     "data": {
      "text/plain": [
       "array([0, 1, 2, 3, 4], dtype=int64)"
      ]
     },
     "metadata": {},
     "execution_count": 21
    }
   ],
   "source": [
    "df.kfold.unique()"
   ]
  },
  {
   "cell_type": "code",
   "execution_count": 22,
   "metadata": {},
   "outputs": [],
   "source": [
    "# stratified k-folds\n",
    "\n",
    "df[\"skfold\"] = -1\n",
    "\n",
    "# randomise the rows\n",
    "df = df.sample(frac=1).reset_index(drop=True)\n",
    "\n",
    "# get target values\n",
    "y = df.quality.values\n",
    "\n",
    "# initiate kfold class from model_selection module\n",
    "kf = model_selection.StratifiedKFold(n_splits=5)\n",
    "\n",
    "# populate new column\n",
    "for fold, (trn_, val_) in enumerate(kf.split(X=df, y=y)):\n",
    "    df.loc[val_, 'skfold'] = fold"
   ]
  },
  {
   "cell_type": "code",
   "execution_count": 23,
   "metadata": {},
   "outputs": [
    {
     "output_type": "execute_result",
     "data": {
      "text/plain": [
       "   fixed acidity  volatile acidity  citric acid  residual sugar  chlorides  \\\n",
       "0            9.5              0.46         0.49             6.3      0.064   \n",
       "1           11.0              0.20         0.48             2.0      0.343   \n",
       "2            7.7              0.43         0.25             2.6      0.073   \n",
       "3            6.9              0.63         0.01             2.4      0.076   \n",
       "4            7.1              0.34         0.28             2.0      0.082   \n",
       "\n",
       "   free sulfur dioxide  total sulfur dioxide  density    pH  sulphates  \\\n",
       "0                  5.0                  17.0  0.99880  3.21       0.73   \n",
       "1                  6.0                  18.0  0.99790  3.30       0.71   \n",
       "2                 29.0                  63.0  0.99615  3.37       0.58   \n",
       "3                 14.0                  39.0  0.99522  3.34       0.53   \n",
       "4                 31.0                  68.0  0.99694  3.45       0.48   \n",
       "\n",
       "   alcohol  quality  kfold  skfold  \n",
       "0     11.0        6      2       0  \n",
       "1     10.5        5      2       0  \n",
       "2     10.5        6      4       0  \n",
       "3     10.8        6      0       0  \n",
       "4      9.4        5      1       0  "
      ],
      "text/html": "<div>\n<style scoped>\n    .dataframe tbody tr th:only-of-type {\n        vertical-align: middle;\n    }\n\n    .dataframe tbody tr th {\n        vertical-align: top;\n    }\n\n    .dataframe thead th {\n        text-align: right;\n    }\n</style>\n<table border=\"1\" class=\"dataframe\">\n  <thead>\n    <tr style=\"text-align: right;\">\n      <th></th>\n      <th>fixed acidity</th>\n      <th>volatile acidity</th>\n      <th>citric acid</th>\n      <th>residual sugar</th>\n      <th>chlorides</th>\n      <th>free sulfur dioxide</th>\n      <th>total sulfur dioxide</th>\n      <th>density</th>\n      <th>pH</th>\n      <th>sulphates</th>\n      <th>alcohol</th>\n      <th>quality</th>\n      <th>kfold</th>\n      <th>skfold</th>\n    </tr>\n  </thead>\n  <tbody>\n    <tr>\n      <th>0</th>\n      <td>9.5</td>\n      <td>0.46</td>\n      <td>0.49</td>\n      <td>6.3</td>\n      <td>0.064</td>\n      <td>5.0</td>\n      <td>17.0</td>\n      <td>0.99880</td>\n      <td>3.21</td>\n      <td>0.73</td>\n      <td>11.0</td>\n      <td>6</td>\n      <td>2</td>\n      <td>0</td>\n    </tr>\n    <tr>\n      <th>1</th>\n      <td>11.0</td>\n      <td>0.20</td>\n      <td>0.48</td>\n      <td>2.0</td>\n      <td>0.343</td>\n      <td>6.0</td>\n      <td>18.0</td>\n      <td>0.99790</td>\n      <td>3.30</td>\n      <td>0.71</td>\n      <td>10.5</td>\n      <td>5</td>\n      <td>2</td>\n      <td>0</td>\n    </tr>\n    <tr>\n      <th>2</th>\n      <td>7.7</td>\n      <td>0.43</td>\n      <td>0.25</td>\n      <td>2.6</td>\n      <td>0.073</td>\n      <td>29.0</td>\n      <td>63.0</td>\n      <td>0.99615</td>\n      <td>3.37</td>\n      <td>0.58</td>\n      <td>10.5</td>\n      <td>6</td>\n      <td>4</td>\n      <td>0</td>\n    </tr>\n    <tr>\n      <th>3</th>\n      <td>6.9</td>\n      <td>0.63</td>\n      <td>0.01</td>\n      <td>2.4</td>\n      <td>0.076</td>\n      <td>14.0</td>\n      <td>39.0</td>\n      <td>0.99522</td>\n      <td>3.34</td>\n      <td>0.53</td>\n      <td>10.8</td>\n      <td>6</td>\n      <td>0</td>\n      <td>0</td>\n    </tr>\n    <tr>\n      <th>4</th>\n      <td>7.1</td>\n      <td>0.34</td>\n      <td>0.28</td>\n      <td>2.0</td>\n      <td>0.082</td>\n      <td>31.0</td>\n      <td>68.0</td>\n      <td>0.99694</td>\n      <td>3.45</td>\n      <td>0.48</td>\n      <td>9.4</td>\n      <td>5</td>\n      <td>1</td>\n      <td>0</td>\n    </tr>\n  </tbody>\n</table>\n</div>"
     },
     "metadata": {},
     "execution_count": 23
    }
   ],
   "source": [
    "df.head()"
   ]
  },
  {
   "source": [
    "For this particular dataset, stratified k-folds is the correct cross validation approach to use since the quality of wines (assuming quality is our target) is not evenly distributed."
   ],
   "cell_type": "markdown",
   "metadata": {}
  }
 ]
}